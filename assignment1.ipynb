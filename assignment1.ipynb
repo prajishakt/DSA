{
  "nbformat": 4,
  "nbformat_minor": 0,
  "metadata": {
    "colab": {
      "provenance": []
    },
    "kernelspec": {
      "name": "python3",
      "display_name": "Python 3"
    },
    "language_info": {
      "name": "python"
    }
  },
  "cells": [
    {
      "cell_type": "markdown",
      "source": [
        "## **Assignment1**\n",
        "\n",
        "1. Write a Python program which accepts the radius of a circle from the user\n",
        "and compute the area.\n",
        "Sample input: Enter the radius: 3\n",
        "Sample output: Area of Circle is 28.59999999999"
      ],
      "metadata": {
        "id": "3gKKWl6SfB-N"
      }
    },
    {
      "cell_type": "code",
      "execution_count": 2,
      "metadata": {
        "colab": {
          "base_uri": "https://localhost:8080/"
        },
        "id": "zcg2lxXzXRgb",
        "outputId": "22875872-4a88-46bc-d758-601dd6b0f686"
      },
      "outputs": [
        {
          "output_type": "stream",
          "name": "stdout",
          "text": [
            "Enter the value of radius :2\n",
            "12.566370614359172\n"
          ]
        }
      ],
      "source": [
        "import math\n",
        "radius = float(input(\"Enter the value of radius :\"))\n",
        "area = math.pi*radius**2\n",
        "print(area)"
      ]
    },
    {
      "cell_type": "markdown",
      "source": [
        "2. Write a Python Program to accept the details of a student like name, roll\n",
        "number and mark and display it."
      ],
      "metadata": {
        "id": "ToKRUPLaYghj"
      }
    },
    {
      "cell_type": "code",
      "source": [
        "name = input(\"Enter the name of student :\")\n",
        "roll_no = input(\"Enter the roll number :\")\n",
        "mark = input(\"Enter the mark :\")\n",
        "print(\"======================\\nStudent details\\n======================\")\n",
        "print(\"Name : \",name)\n",
        "print(\"Roll no : \",roll_no)\n",
        "print(\"Mark : \",mark)"
      ],
      "metadata": {
        "colab": {
          "base_uri": "https://localhost:8080/"
        },
        "id": "IfWsDwmXYlVm",
        "outputId": "e5ae3e4a-059b-4001-c78c-291ff7d51ea9"
      },
      "execution_count": 3,
      "outputs": [
        {
          "output_type": "stream",
          "name": "stdout",
          "text": [
            "Enter the name of student :Janvi\n",
            "Enter the roll number :23\n",
            "Enter the mark :20\n",
            "======================\n",
            "Student details\n",
            "======================\n",
            "Name :  Janvi\n",
            "Roll no :  23\n",
            "Mark :  20\n"
          ]
        }
      ]
    },
    {
      "cell_type": "markdown",
      "source": [
        "3. Write a Python program to get the largest number from a list.\n",
        "Sample input: 12, 3, 47, 10\n",
        "Sample output: 47 is the largest number.\n"
      ],
      "metadata": {
        "id": "KAO8GuEpa4-3"
      }
    },
    {
      "cell_type": "code",
      "source": [
        "# creating an empty list\n",
        "lst = []\n",
        "n = int(input(\"Enter number of elements : \"))\n",
        "for i in range(0, n):\n",
        "\tnum = int(input())\n",
        "\tlst.append(num)\n",
        "largest = lst[0]\n",
        "for i in lst:\n",
        "  if i > largest:\n",
        "    largest = i\n",
        "else:\n",
        "  print(\"Greatest number is: \",largest)"
      ],
      "metadata": {
        "colab": {
          "base_uri": "https://localhost:8080/"
        },
        "id": "-lk4AW1ia8JU",
        "outputId": "8cdf0148-66ea-4c57-a257-c532d78a4fe7"
      },
      "execution_count": 4,
      "outputs": [
        {
          "output_type": "stream",
          "name": "stdout",
          "text": [
            "Enter number of elements : 5\n",
            "12\n",
            "21\n",
            "9\n",
            "34\n",
            "10\n",
            "Greatest number is:  34\n"
          ]
        }
      ]
    },
    {
      "cell_type": "markdown",
      "source": [
        "4. Given a range of first 10 numbers, write a Python program to iterate from\n",
        "start number to the end number and print the sum of the current number\n",
        "and previous number.\n",
        "Sample input: 1….10\n",
        "Sample output: Current Number 1 Previous Number 0 Sum: 1 Current\n",
        "Number 2 Previous Number 1 Sum: 3 Current Number 3 Previous\n",
        "Number 2 Sum: 5… Current Number 10 Previous Number 9 Sum: 19"
      ],
      "metadata": {
        "id": "4e54PdjsfuXc"
      }
    },
    {
      "cell_type": "code",
      "source": [
        "for i in range(1,11):\n",
        "  print(\"Current number is :\",i)\n",
        "  print(\"Previous number is :\",i-1)\n",
        "  sum = i+i-1\n",
        "  print(\"Sum = \",sum)"
      ],
      "metadata": {
        "colab": {
          "base_uri": "https://localhost:8080/"
        },
        "id": "vYXasVv-f8if",
        "outputId": "f5304361-4fed-493b-cdba-59a4c27ddc28"
      },
      "execution_count": 5,
      "outputs": [
        {
          "output_type": "stream",
          "name": "stdout",
          "text": [
            "Current number is : 1\n",
            "Previous number is : 0\n",
            "Sum =  1\n",
            "Current number is : 2\n",
            "Previous number is : 1\n",
            "Sum =  3\n",
            "Current number is : 3\n",
            "Previous number is : 2\n",
            "Sum =  5\n",
            "Current number is : 4\n",
            "Previous number is : 3\n",
            "Sum =  7\n",
            "Current number is : 5\n",
            "Previous number is : 4\n",
            "Sum =  9\n",
            "Current number is : 6\n",
            "Previous number is : 5\n",
            "Sum =  11\n",
            "Current number is : 7\n",
            "Previous number is : 6\n",
            "Sum =  13\n",
            "Current number is : 8\n",
            "Previous number is : 7\n",
            "Sum =  15\n",
            "Current number is : 9\n",
            "Previous number is : 8\n",
            "Sum =  17\n",
            "Current number is : 10\n",
            "Previous number is : 9\n",
            "Sum =  19\n"
          ]
        }
      ]
    },
    {
      "cell_type": "code",
      "source": [],
      "metadata": {
        "id": "Wx_EEPa_g1au"
      },
      "execution_count": null,
      "outputs": []
    },
    {
      "cell_type": "markdown",
      "source": [
        "5. Write a Python program to print only those numbers which are divisible\n",
        "of 5.\n",
        "Sample input: 10, 20,33,46,55 Sample output: 10, 20, 55"
      ],
      "metadata": {
        "id": "UrGAWAS9g2k8"
      }
    },
    {
      "cell_type": "code",
      "source": [
        "# creating an empty list\n",
        "result = []\n",
        "n = int(input(\"Enter number of elements : \"))\n",
        "for i in range(0, n):\n",
        "  num = int(input(\"Enter the number\"))\n",
        "  if int(num)%5 == 0:\n",
        "    result.append(num)\n",
        "else:\n",
        "  print(\"Numbers divisible by 5 : \",result)\n"
      ],
      "metadata": {
        "colab": {
          "base_uri": "https://localhost:8080/"
        },
        "id": "cDG1M8tag86w",
        "outputId": "63b09f44-4b93-4370-dfc4-4629c9a73953"
      },
      "execution_count": 6,
      "outputs": [
        {
          "output_type": "stream",
          "name": "stdout",
          "text": [
            "Enter number of elements : 7\n",
            "Enter the number12\n",
            "Enter the number5\n",
            "Enter the number10\n",
            "Enter the number23\n",
            "Enter the number50\n",
            "Enter the number25\n",
            "Enter the number7\n",
            "Numbers divisible by 5 :  [5, 10, 50, 25]\n"
          ]
        }
      ]
    },
    {
      "cell_type": "markdown",
      "source": [
        "6. Write a Python program to check whether a number is prime or not.\n",
        "Sample input: Enter the number: 3\n",
        "Sample output: 3 is a prime number.\n"
      ],
      "metadata": {
        "id": "g9pOSU7AjhGB"
      }
    },
    {
      "cell_type": "code",
      "source": [
        "#check number is prime or not\n",
        "num = int(input(\"Enter the number \"))\n",
        "if num>1:\n",
        "  for test in range(2,(num//2)+1):\n",
        "    if num % test ==0:\n",
        "      print(\"Number is not prime\")\n",
        "      break\n",
        "  else :\n",
        "    print(\"Number is prime\")\n",
        "else:\n",
        "  print(\"Number is not prime\")"
      ],
      "metadata": {
        "id": "nYi7nx3RjlQq",
        "colab": {
          "base_uri": "https://localhost:8080/"
        },
        "outputId": "e3503f86-c08e-41f4-948a-16dcd303e417"
      },
      "execution_count": 29,
      "outputs": [
        {
          "output_type": "stream",
          "name": "stdout",
          "text": [
            "Enter the number 102\n",
            "Number is not prime\n"
          ]
        }
      ]
    },
    {
      "cell_type": "markdown",
      "source": [
        "7. Write a Python program to reverse a list using for loop.\n",
        "Sample input: 10,40,30,70\n",
        "Sample output: 70,30,40,10"
      ],
      "metadata": {
        "id": "x7fJ7m6rjqQP"
      }
    },
    {
      "cell_type": "code",
      "source": [
        "# creating an empty list\n",
        "lst = []\n",
        "result = []\n",
        "n = int(input(\"Enter number of elements : \"))\n",
        "for i in range(0, n):\n",
        "  num = int(input(\"Enter the number \"))\n",
        "  lst.append(num)\n",
        "print(\"Current list :\",lst)\n",
        "i=0\n",
        "while i<n//2:\n",
        "  j = lst[i]\n",
        "  lst[i] = lst[n-1-i]\n",
        "  lst[n-1-i] = j\n",
        "  i = i+1\n",
        "else:\n",
        "  print(\"Reverse list is : \",lst)\n",
        ""
      ],
      "metadata": {
        "colab": {
          "base_uri": "https://localhost:8080/"
        },
        "id": "ehRKDD29jsAY",
        "outputId": "2e823e87-4eb6-4678-daf1-d5b457ec5fb7"
      },
      "execution_count": 34,
      "outputs": [
        {
          "output_type": "stream",
          "name": "stdout",
          "text": [
            "Enter number of elements : 4\n",
            "Enter the number 23\n",
            "Enter the number 21\n",
            "Enter the number 12\n",
            "Enter the number 1\n",
            "Current list : [23, 21, 12, 1]\n",
            "Reverse list is :  [1, 12, 21, 23]\n"
          ]
        }
      ]
    },
    {
      "cell_type": "markdown",
      "source": [
        "8. Write a Python program to print the following pattern.\n",
        "*\n",
        "**\n",
        "***\n",
        "****"
      ],
      "metadata": {
        "id": "HcyFBkBpxYTz"
      }
    },
    {
      "cell_type": "code",
      "source": [
        "for i in range(1,5):\n",
        "  for j in range(1,i+1):\n",
        "    print(\"*\",end='')\n",
        "  else:\n",
        "    print()\n",
        "\n"
      ],
      "metadata": {
        "colab": {
          "base_uri": "https://localhost:8080/"
        },
        "id": "8QlezKgSxghE",
        "outputId": "d8173598-d66c-4963-e91d-3f6c5969b6af"
      },
      "execution_count": 35,
      "outputs": [
        {
          "output_type": "stream",
          "name": "stdout",
          "text": [
            "*\n",
            "**\n",
            "***\n",
            "****\n"
          ]
        }
      ]
    },
    {
      "cell_type": "markdown",
      "source": [
        "9. Write a Python program to find the maximum of three numbers\n",
        "Sample input: 34,12,7\n",
        "Sample output: 34\n"
      ],
      "metadata": {
        "id": "-nbJlfBa06D2"
      }
    },
    {
      "cell_type": "code",
      "source": [
        "num1 = int(input(\"Enter the first number: \"))\n",
        "num2 = int(input(\"Enter the second number: \"))\n",
        "num3 = int(input(\"Enter the third number: \"))\n",
        "if num1 > num2 and num1 >num3:\n",
        "  print(\"Greatest number is \",num1)\n",
        "elif num2 > num1 and num2 > num3:\n",
        "  print(\"Greatest number is \",num2)\n",
        "else:\n",
        "  print(\"Greatest number is \",num3)"
      ],
      "metadata": {
        "colab": {
          "base_uri": "https://localhost:8080/"
        },
        "id": "mUMqfKOu0_KR",
        "outputId": "81a2c871-7c12-436c-fda3-79ffbc3034ff"
      },
      "execution_count": 36,
      "outputs": [
        {
          "output_type": "stream",
          "name": "stdout",
          "text": [
            "Enter the first number: 34\n",
            "Enter the second number: 12\n",
            "Enter the third number: 7\n",
            "Greatest number is  34\n"
          ]
        }
      ]
    },
    {
      "cell_type": "markdown",
      "source": [
        "\n",
        "10. Write a Python program to construct the following pattern, using a\n",
        "nested for loop.\n",
        "*\n",
        "**\n",
        "***\n",
        "****\n",
        "*****\n",
        "****\n",
        "***\n",
        "**\n",
        "*"
      ],
      "metadata": {
        "id": "NOb0qOTl2G6M"
      }
    },
    {
      "cell_type": "code",
      "source": [
        "for i in range(1,6):\n",
        "  for j in range(1,i+1):\n",
        "    print(\"*\",end='')\n",
        "  else:\n",
        "    print()\n",
        "for i in reversed(range(5)):\n",
        "  for j in range(1,i+1):\n",
        "    print(\"*\",end='')\n",
        "  else:\n",
        "    print()\n"
      ],
      "metadata": {
        "colab": {
          "base_uri": "https://localhost:8080/"
        },
        "id": "QfO9b1ov2hP1",
        "outputId": "8bdd2c5f-0c91-476e-b2d8-d05961346313"
      },
      "execution_count": 37,
      "outputs": [
        {
          "output_type": "stream",
          "name": "stdout",
          "text": [
            "*\n",
            "**\n",
            "***\n",
            "****\n",
            "*****\n",
            "****\n",
            "***\n",
            "**\n",
            "*\n",
            "\n"
          ]
        }
      ]
    }
  ]
}