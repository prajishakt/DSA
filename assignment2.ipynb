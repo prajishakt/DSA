{
  "nbformat": 4,
  "nbformat_minor": 0,
  "metadata": {
    "colab": {
      "provenance": []
    },
    "kernelspec": {
      "name": "python3",
      "display_name": "Python 3"
    },
    "language_info": {
      "name": "python"
    }
  },
  "cells": [
    {
      "cell_type": "markdown",
      "source": [
        "1. Write a Python program to accept a string value from the user and display\n",
        "the count of each character in that string. Sample input: Enter a string\n",
        "value: assembly Sample output: a=1, s=2, e=1, m=1, b=1, l=1, y=1\n"
      ],
      "metadata": {
        "id": "6akgQ2h-nTaq"
      }
    },
    {
      "cell_type": "code",
      "execution_count": null,
      "metadata": {
        "colab": {
          "base_uri": "https://localhost:8080/"
        },
        "id": "qJ5FzJLLnSgo",
        "outputId": "f427fd72-3d02-476c-a0d4-3f752748cff2"
      },
      "outputs": [
        {
          "output_type": "stream",
          "name": "stdout",
          "text": [
            "Enter the string :assembly\n",
            "a = 1,s = 2,e = 1,m = 1,b = 1,l = 1,y = 1,"
          ]
        }
      ],
      "source": [
        "str1 = str(input('Enter the string :'))\n",
        "tempStr = ''\n",
        "for char in str1:\n",
        "    if char not in tempStr:\n",
        "        print(char, '=', str1.count(char),end=',')\n",
        "        tempStr = tempStr+char"
      ]
    },
    {
      "cell_type": "markdown",
      "source": [
        "2. . Write a Python function to find the maximum of three numbers Sample\n",
        "input: 34,12,7 Sample output: 34\n"
      ],
      "metadata": {
        "id": "0uqRO8FsqNSX"
      }
    },
    {
      "cell_type": "code",
      "source": [
        "def find_maximum(a, b, c):\n",
        "    return max(a, b, c)\n",
        "\n",
        "num1 = int(input(\"Enter the first number :\"))\n",
        "num2 = int(input(\"Enter the second number :\"))\n",
        "num3 = int(input(\"Enter the third number :\"))\n",
        "\n",
        "result = find_maximum(num1, num2, num3)\n",
        "print(\"The maximum number is : \", result)\n"
      ],
      "metadata": {
        "colab": {
          "base_uri": "https://localhost:8080/"
        },
        "id": "XiKG5e2NqQDs",
        "outputId": "55a44c4f-4f55-4bab-851b-d1587549f9df"
      },
      "execution_count": null,
      "outputs": [
        {
          "output_type": "stream",
          "name": "stdout",
          "text": [
            "Enter the first number :23\n",
            "Enter the second number :12\n",
            "Enter the third number :78\n",
            "The maximum number is :  78\n"
          ]
        }
      ]
    },
    {
      "cell_type": "markdown",
      "source": [
        "3. Write a Python function called exponent(base,exp) that returns an\n",
        "integer value of base raises to the power of exp. Sample input: Enter the\n",
        "base: 2 Enter the exponent: 3 Sample output: 8"
      ],
      "metadata": {
        "id": "1tDLzmj4rkRB"
      }
    },
    {
      "cell_type": "code",
      "source": [
        "def exponent(base, exp):\n",
        "    result = base ** exp\n",
        "    return result\n",
        "\n",
        "base_input = int(input(\"Enter the base: \"))\n",
        "exp_input = int(input(\"Enter the exponent: \"))\n",
        "\n",
        "result = exponent(base_input, exp_input)\n",
        "print(\"Output : \",result)\n"
      ],
      "metadata": {
        "colab": {
          "base_uri": "https://localhost:8080/"
        },
        "id": "Y-qr8jJjripE",
        "outputId": "4faaf0cf-2be7-49d4-87fa-6a66578b71f4"
      },
      "execution_count": null,
      "outputs": [
        {
          "output_type": "stream",
          "name": "stdout",
          "text": [
            "Enter the base: 2\n",
            "Enter the exponent: 3\n",
            "Output :  8\n"
          ]
        }
      ]
    },
    {
      "cell_type": "markdown",
      "source": [
        "4. Write a Python function that takes a positive integer and returns the sum\n",
        "of the cube of all the positive integers smaller than the specified number.\n",
        "Sample input: 4 Sample output: 36."
      ],
      "metadata": {
        "id": "WiBX5h2Is5qM"
      }
    },
    {
      "cell_type": "code",
      "source": [
        "def sum_cube(num):\n",
        "  sum = 0\n",
        "  for i in range(1,num):\n",
        "    sum = sum+i**3\n",
        "  return sum\n",
        "\n",
        "num = int(input(\"Enter the number: \"))\n",
        "result = sum_cube(num)\n",
        "print(\"Output : \",result)\n"
      ],
      "metadata": {
        "colab": {
          "base_uri": "https://localhost:8080/"
        },
        "id": "K36I0lO2tIQJ",
        "outputId": "b3e30a5f-6e11-4206-85d3-b5a16fab94d0"
      },
      "execution_count": null,
      "outputs": [
        {
          "output_type": "stream",
          "name": "stdout",
          "text": [
            "Enter the number: 3\n",
            "Output :  9\n"
          ]
        }
      ]
    },
    {
      "cell_type": "markdown",
      "source": [
        "5. Write a Python program which iterates from 1 to 10. For multiples of 2,\n",
        "print “Fizz” instead of the number and for the multiples of 5, print “Buzz”.\n",
        "For numbers which are multiples of both 2 and 5, print “FizzBuzz”.\n",
        "Sample input: numbers from 1 to 10 Sample output: 1 Fizz 3 Fizz Buzz\n",
        "Fizz 7 Fizz 9 FizzBuzz"
      ],
      "metadata": {
        "id": "1QdyPQSZuxRw"
      }
    },
    {
      "cell_type": "code",
      "source": [
        "output = ''\n",
        "for i in range(1,11):\n",
        "  if (i%2==0 and i%5==0):\n",
        "    output = output+\"FizzBuzz\"\n",
        "  elif i%2==0:\n",
        "    output = output+\"Fizz\"\n",
        "  elif i%5==0:\n",
        "    output = output+\"Buzz\"\n",
        "  else:\n",
        "    output = output+str(i)\n",
        "  output = output+\" \"\n",
        "else:\n",
        "  print(output)\n",
        "\n"
      ],
      "metadata": {
        "id": "UmqRvlVnu0-b",
        "colab": {
          "base_uri": "https://localhost:8080/"
        },
        "outputId": "1573ad14-faf2-4e12-89ad-612a8e5f9bb6"
      },
      "execution_count": null,
      "outputs": [
        {
          "output_type": "stream",
          "name": "stdout",
          "text": [
            "1 Fizz 3 Fizz Buzz Fizz 7 Fizz 9 FizzBuzz \n"
          ]
        }
      ]
    },
    {
      "cell_type": "markdown",
      "source": [
        "6. Write a Python program to find the most frequent item in a list of\n",
        "numbers. Sample input: 2, 3, 4, 2, 5, 2 Sample output: 2"
      ],
      "metadata": {
        "id": "qAE8incMu3el"
      }
    },
    {
      "cell_type": "code",
      "source": [
        "def most_frequent(list1):\n",
        "\tcounter = 0\n",
        "\tfreq = {}\n",
        "\tresult =[]\n",
        "\n",
        "#To make a dict with count\n",
        "\n",
        "\tfor i in list1:\n",
        "\t\tif (i in freq):\n",
        "\t\t\tfreq[i] += 1\n",
        "\t\telse:\n",
        "\t\t\tfreq[i] = 1\n",
        "\n",
        "\tcounter = max(zip(freq.values(), freq.keys()))[0] #To find largest count\n",
        "#To find most frequent item .May be more than one item with same count\n",
        "\tfor key,val in freq.items():\n",
        "\t\tif (counter==int(val)):\n",
        "\t\t\tresult.append(key)\n",
        "\treturn result\n",
        "\n",
        "\n",
        "l = int(input('Enter length of the list :'))\n",
        "list1 = []\n",
        "for i in range(l):\n",
        "  num = int(input(\"Enter the number : \"))\n",
        "  list1.append(num)\n",
        "\n",
        "#List = [2, 3, 4, 2, 5, 2]\n",
        "print(\"Most frequent item in the list is : \",most_frequent(list1))\n"
      ],
      "metadata": {
        "colab": {
          "base_uri": "https://localhost:8080/"
        },
        "id": "P5k1Q5OzZqOF",
        "outputId": "5a83a867-8d6e-41d7-b997-765fc89d1e07"
      },
      "execution_count": 11,
      "outputs": [
        {
          "output_type": "stream",
          "name": "stdout",
          "text": [
            "Enter length of the list :6\n",
            "Enter the number : 3\n",
            "Enter the number : 2\n",
            "Enter the number : 3\n",
            "Enter the number : 2\n",
            "Enter the number : 4\n",
            "Enter the number : 5\n",
            "Most frequent item in the list is :  [3, 2]\n"
          ]
        }
      ]
    },
    {
      "cell_type": "markdown",
      "source": [
        "7. Write a Python program to find the sum of squares of the numbers in a\n",
        "list. Sample input: 2,1,3,1 Sample output: 15\n"
      ],
      "metadata": {
        "id": "OvyJU5GNcSOw"
      }
    },
    {
      "cell_type": "code",
      "source": [
        "def sum_squares(list1):\n",
        "  sum=0\n",
        "  for i in list1:\n",
        "    sum = sum+i**2\n",
        "  return sum\n",
        "\n",
        "l = int(input('Enter length of the list :'))\n",
        "list1 = []\n",
        "for i in range(l):\n",
        "  num = int(input(\"Enter the numbers : \"))\n",
        "  list1.append(num)\n",
        "print(\"Sum of squares is : \",sum_squares(list1))\n"
      ],
      "metadata": {
        "colab": {
          "base_uri": "https://localhost:8080/"
        },
        "id": "tDmffkDfcTl2",
        "outputId": "e15c16d1-1944-4202-d8a3-8fe24dadb197"
      },
      "execution_count": null,
      "outputs": [
        {
          "output_type": "stream",
          "name": "stdout",
          "text": [
            "Enter length of the list :4\n",
            "Enter the numbers : 2\n",
            "Enter the numbers : 3\n",
            "Enter the numbers : 4\n",
            "Enter the numbers : 5\n",
            "Sum of squares is :  54\n"
          ]
        }
      ]
    },
    {
      "cell_type": "markdown",
      "source": [
        "8. Write a Python program using for loop that will iterate from 1 to 15. For\n",
        "each iteration, check if the current number is odd or even, and display the\n",
        "message to the screen as odd or even. Sample input: 1….15 Sample\n",
        "output: 1-odd 2-even …. 15-odd"
      ],
      "metadata": {
        "id": "QYSpJdJzfWPp"
      }
    },
    {
      "cell_type": "code",
      "source": [
        "for i in range(1,16):\n",
        "  if i%2==0:\n",
        "    print(i,\"-Even\")\n",
        "  else:\n",
        "    print(i,\"-Odd\")\n"
      ],
      "metadata": {
        "colab": {
          "base_uri": "https://localhost:8080/"
        },
        "id": "2npspcnQfYWG",
        "outputId": "2f9186a3-73b3-49f7-a1d0-3e4ca8f477ca"
      },
      "execution_count": null,
      "outputs": [
        {
          "output_type": "stream",
          "name": "stdout",
          "text": [
            "1 -Odd\n",
            "2 -Even\n",
            "3 -Odd\n",
            "4 -Even\n",
            "5 -Odd\n",
            "6 -Even\n",
            "7 -Odd\n",
            "8 -Even\n",
            "9 -Odd\n",
            "10 -Even\n",
            "11 -Odd\n",
            "12 -Even\n",
            "13 -Odd\n",
            "14 -Even\n",
            "15 -Odd\n"
          ]
        }
      ]
    },
    {
      "cell_type": "markdown",
      "source": [
        "9. Write a Python program to convert temperatures to and from Celsius\n",
        "Fahrenheit. [Formula: c/5=f-32/9 where c=temperature in Celsius and f=\n",
        "temperature in Fahrenheit.] Sample input: Temperature in Fahrenheit\n",
        "=41 Sample output: Temperature in Celsius =5"
      ],
      "metadata": {
        "id": "SITyalkmgXUE"
      }
    },
    {
      "cell_type": "code",
      "source": [
        "def celsius_to_fahrenheit(celsius):\n",
        "    fahrenheit = (celsius * 9/5) + 32\n",
        "    return fahrenheit\n",
        "\n",
        "def fahrenheit_to_celsius(fahrenheit):\n",
        "    celsius = (fahrenheit - 32) * 5/9\n",
        "    return celsius\n",
        "\n",
        "temperature_in_celsius = float(input(\"Enter temperature in celsius : \"))\n",
        "temperature_in_fahrenheit = celsius_to_fahrenheit(temperature_in_celsius)\n",
        "print(\"Temperature in Fahrenheit : \",temperature_in_fahrenheit)\n",
        "\n",
        "temperature_in_fahrenheit = float(input(\"Enter temperature in Fahrenheit : \"))\n",
        "temperature_in_celsius = fahrenheit_to_celsius(temperature_in_fahrenheit)\n",
        "print(\"Temperature in Fahrenheit : \",temperature_in_celsius)\n"
      ],
      "metadata": {
        "colab": {
          "base_uri": "https://localhost:8080/"
        },
        "id": "h5HqmYKigcrs",
        "outputId": "0f978526-d9d7-4eab-f493-9a8b5a0d9fa5"
      },
      "execution_count": null,
      "outputs": [
        {
          "output_type": "stream",
          "name": "stdout",
          "text": [
            "Enter temperature in celsius : 37\n",
            "Temperature in Fahrenheit :  98.6\n",
            "Enter temperature in Fahrenheit : 100\n",
            "Temperature in Fahrenheit :  37.77777777777778\n"
          ]
        }
      ]
    },
    {
      "cell_type": "markdown",
      "source": [
        "10. Write a Python function to calculate the factorial of a number (a\n",
        "nonnegative integer). The function accepts the number as an argument.\n",
        "Sample input: 3 Sample output: 6"
      ],
      "metadata": {
        "id": "30y9MPsqjQd_"
      }
    },
    {
      "cell_type": "code",
      "source": [
        "def factorial(n):\n",
        "  if n<0:\n",
        "    print(\"Enter a positive integer\")\n",
        "  elif n==0 or n==1:\n",
        "    return 1\n",
        "  else:\n",
        "    fact = 1\n",
        "    for i in range(2,n+1):\n",
        "      fact *=i\n",
        "    return fact\n",
        "\n",
        "num = int(input(\"Enter the number : \"))\n",
        "print(\"Factorial = \",factorial(num))"
      ],
      "metadata": {
        "colab": {
          "base_uri": "https://localhost:8080/"
        },
        "id": "rHa2nLtGjTHF",
        "outputId": "bd68d4b1-bbe9-405e-8745-3be7f3060aa5"
      },
      "execution_count": null,
      "outputs": [
        {
          "output_type": "stream",
          "name": "stdout",
          "text": [
            "Enter the number : 4\n",
            "Factorial =  24\n"
          ]
        }
      ]
    }
  ]
}