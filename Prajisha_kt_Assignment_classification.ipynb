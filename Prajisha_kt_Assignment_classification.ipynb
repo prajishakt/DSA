{
  "nbformat": 4,
  "nbformat_minor": 0,
  "metadata": {
    "colab": {
      "provenance": []
    },
    "kernelspec": {
      "name": "python3",
      "display_name": "Python 3"
    },
    "language_info": {
      "name": "python"
    }
  },
  "cells": [
    {
      "cell_type": "markdown",
      "source": [
        "\n",
        "#Assignment on Classification\n",
        "\n",
        "\n",
        "\n"
      ],
      "metadata": {
        "id": "TnYHOu0vt7F0"
      }
    },
    {
      "cell_type": "code",
      "execution_count": 160,
      "metadata": {
        "id": "_IKDHpno5Py0"
      },
      "outputs": [],
      "source": [
        "#Import Necessary libraries\n",
        "import numpy as np\n",
        "import pandas as pd\n",
        "import matplotlib.pyplot as plt\n",
        "import seaborn as sns\n"
      ]
    },
    {
      "cell_type": "code",
      "source": [
        "#Load the dataset\n",
        "data = pd.read_excel('/content/iris.xls')\n",
        "data.head()"
      ],
      "metadata": {
        "colab": {
          "base_uri": "https://localhost:8080/",
          "height": 206
        },
        "id": "UlsiVJMf5h6H",
        "outputId": "a3794adc-eca2-4b81-a817-ace2958fcc63"
      },
      "execution_count": 161,
      "outputs": [
        {
          "output_type": "execute_result",
          "data": {
            "text/plain": [
              "    SL   SW   PL   PW Classification\n",
              "0  5.1  3.5  1.4  0.2    Iris-setosa\n",
              "1  4.9  3.0  1.4  0.2    Iris-setosa\n",
              "2  NaN  3.2  1.3  0.2    Iris-setosa\n",
              "3  4.6  3.1  1.5  0.2    Iris-setosa\n",
              "4  5.0  3.6  1.4  0.2    Iris-setosa"
            ],
            "text/html": [
              "\n",
              "  <div id=\"df-87909737-7740-42b4-80a6-b2451fa50a10\" class=\"colab-df-container\">\n",
              "    <div>\n",
              "<style scoped>\n",
              "    .dataframe tbody tr th:only-of-type {\n",
              "        vertical-align: middle;\n",
              "    }\n",
              "\n",
              "    .dataframe tbody tr th {\n",
              "        vertical-align: top;\n",
              "    }\n",
              "\n",
              "    .dataframe thead th {\n",
              "        text-align: right;\n",
              "    }\n",
              "</style>\n",
              "<table border=\"1\" class=\"dataframe\">\n",
              "  <thead>\n",
              "    <tr style=\"text-align: right;\">\n",
              "      <th></th>\n",
              "      <th>SL</th>\n",
              "      <th>SW</th>\n",
              "      <th>PL</th>\n",
              "      <th>PW</th>\n",
              "      <th>Classification</th>\n",
              "    </tr>\n",
              "  </thead>\n",
              "  <tbody>\n",
              "    <tr>\n",
              "      <th>0</th>\n",
              "      <td>5.1</td>\n",
              "      <td>3.5</td>\n",
              "      <td>1.4</td>\n",
              "      <td>0.2</td>\n",
              "      <td>Iris-setosa</td>\n",
              "    </tr>\n",
              "    <tr>\n",
              "      <th>1</th>\n",
              "      <td>4.9</td>\n",
              "      <td>3.0</td>\n",
              "      <td>1.4</td>\n",
              "      <td>0.2</td>\n",
              "      <td>Iris-setosa</td>\n",
              "    </tr>\n",
              "    <tr>\n",
              "      <th>2</th>\n",
              "      <td>NaN</td>\n",
              "      <td>3.2</td>\n",
              "      <td>1.3</td>\n",
              "      <td>0.2</td>\n",
              "      <td>Iris-setosa</td>\n",
              "    </tr>\n",
              "    <tr>\n",
              "      <th>3</th>\n",
              "      <td>4.6</td>\n",
              "      <td>3.1</td>\n",
              "      <td>1.5</td>\n",
              "      <td>0.2</td>\n",
              "      <td>Iris-setosa</td>\n",
              "    </tr>\n",
              "    <tr>\n",
              "      <th>4</th>\n",
              "      <td>5.0</td>\n",
              "      <td>3.6</td>\n",
              "      <td>1.4</td>\n",
              "      <td>0.2</td>\n",
              "      <td>Iris-setosa</td>\n",
              "    </tr>\n",
              "  </tbody>\n",
              "</table>\n",
              "</div>\n",
              "    <div class=\"colab-df-buttons\">\n",
              "\n",
              "  <div class=\"colab-df-container\">\n",
              "    <button class=\"colab-df-convert\" onclick=\"convertToInteractive('df-87909737-7740-42b4-80a6-b2451fa50a10')\"\n",
              "            title=\"Convert this dataframe to an interactive table.\"\n",
              "            style=\"display:none;\">\n",
              "\n",
              "  <svg xmlns=\"http://www.w3.org/2000/svg\" height=\"24px\" viewBox=\"0 -960 960 960\">\n",
              "    <path d=\"M120-120v-720h720v720H120Zm60-500h600v-160H180v160Zm220 220h160v-160H400v160Zm0 220h160v-160H400v160ZM180-400h160v-160H180v160Zm440 0h160v-160H620v160ZM180-180h160v-160H180v160Zm440 0h160v-160H620v160Z\"/>\n",
              "  </svg>\n",
              "    </button>\n",
              "\n",
              "  <style>\n",
              "    .colab-df-container {\n",
              "      display:flex;\n",
              "      gap: 12px;\n",
              "    }\n",
              "\n",
              "    .colab-df-convert {\n",
              "      background-color: #E8F0FE;\n",
              "      border: none;\n",
              "      border-radius: 50%;\n",
              "      cursor: pointer;\n",
              "      display: none;\n",
              "      fill: #1967D2;\n",
              "      height: 32px;\n",
              "      padding: 0 0 0 0;\n",
              "      width: 32px;\n",
              "    }\n",
              "\n",
              "    .colab-df-convert:hover {\n",
              "      background-color: #E2EBFA;\n",
              "      box-shadow: 0px 1px 2px rgba(60, 64, 67, 0.3), 0px 1px 3px 1px rgba(60, 64, 67, 0.15);\n",
              "      fill: #174EA6;\n",
              "    }\n",
              "\n",
              "    .colab-df-buttons div {\n",
              "      margin-bottom: 4px;\n",
              "    }\n",
              "\n",
              "    [theme=dark] .colab-df-convert {\n",
              "      background-color: #3B4455;\n",
              "      fill: #D2E3FC;\n",
              "    }\n",
              "\n",
              "    [theme=dark] .colab-df-convert:hover {\n",
              "      background-color: #434B5C;\n",
              "      box-shadow: 0px 1px 3px 1px rgba(0, 0, 0, 0.15);\n",
              "      filter: drop-shadow(0px 1px 2px rgba(0, 0, 0, 0.3));\n",
              "      fill: #FFFFFF;\n",
              "    }\n",
              "  </style>\n",
              "\n",
              "    <script>\n",
              "      const buttonEl =\n",
              "        document.querySelector('#df-87909737-7740-42b4-80a6-b2451fa50a10 button.colab-df-convert');\n",
              "      buttonEl.style.display =\n",
              "        google.colab.kernel.accessAllowed ? 'block' : 'none';\n",
              "\n",
              "      async function convertToInteractive(key) {\n",
              "        const element = document.querySelector('#df-87909737-7740-42b4-80a6-b2451fa50a10');\n",
              "        const dataTable =\n",
              "          await google.colab.kernel.invokeFunction('convertToInteractive',\n",
              "                                                    [key], {});\n",
              "        if (!dataTable) return;\n",
              "\n",
              "        const docLinkHtml = 'Like what you see? Visit the ' +\n",
              "          '<a target=\"_blank\" href=https://colab.research.google.com/notebooks/data_table.ipynb>data table notebook</a>'\n",
              "          + ' to learn more about interactive tables.';\n",
              "        element.innerHTML = '';\n",
              "        dataTable['output_type'] = 'display_data';\n",
              "        await google.colab.output.renderOutput(dataTable, element);\n",
              "        const docLink = document.createElement('div');\n",
              "        docLink.innerHTML = docLinkHtml;\n",
              "        element.appendChild(docLink);\n",
              "      }\n",
              "    </script>\n",
              "  </div>\n",
              "\n",
              "\n",
              "<div id=\"df-0ed1fa75-ed6e-486b-8c91-51056368da3c\">\n",
              "  <button class=\"colab-df-quickchart\" onclick=\"quickchart('df-0ed1fa75-ed6e-486b-8c91-51056368da3c')\"\n",
              "            title=\"Suggest charts\"\n",
              "            style=\"display:none;\">\n",
              "\n",
              "<svg xmlns=\"http://www.w3.org/2000/svg\" height=\"24px\"viewBox=\"0 0 24 24\"\n",
              "     width=\"24px\">\n",
              "    <g>\n",
              "        <path d=\"M19 3H5c-1.1 0-2 .9-2 2v14c0 1.1.9 2 2 2h14c1.1 0 2-.9 2-2V5c0-1.1-.9-2-2-2zM9 17H7v-7h2v7zm4 0h-2V7h2v10zm4 0h-2v-4h2v4z\"/>\n",
              "    </g>\n",
              "</svg>\n",
              "  </button>\n",
              "\n",
              "<style>\n",
              "  .colab-df-quickchart {\n",
              "      --bg-color: #E8F0FE;\n",
              "      --fill-color: #1967D2;\n",
              "      --hover-bg-color: #E2EBFA;\n",
              "      --hover-fill-color: #174EA6;\n",
              "      --disabled-fill-color: #AAA;\n",
              "      --disabled-bg-color: #DDD;\n",
              "  }\n",
              "\n",
              "  [theme=dark] .colab-df-quickchart {\n",
              "      --bg-color: #3B4455;\n",
              "      --fill-color: #D2E3FC;\n",
              "      --hover-bg-color: #434B5C;\n",
              "      --hover-fill-color: #FFFFFF;\n",
              "      --disabled-bg-color: #3B4455;\n",
              "      --disabled-fill-color: #666;\n",
              "  }\n",
              "\n",
              "  .colab-df-quickchart {\n",
              "    background-color: var(--bg-color);\n",
              "    border: none;\n",
              "    border-radius: 50%;\n",
              "    cursor: pointer;\n",
              "    display: none;\n",
              "    fill: var(--fill-color);\n",
              "    height: 32px;\n",
              "    padding: 0;\n",
              "    width: 32px;\n",
              "  }\n",
              "\n",
              "  .colab-df-quickchart:hover {\n",
              "    background-color: var(--hover-bg-color);\n",
              "    box-shadow: 0 1px 2px rgba(60, 64, 67, 0.3), 0 1px 3px 1px rgba(60, 64, 67, 0.15);\n",
              "    fill: var(--button-hover-fill-color);\n",
              "  }\n",
              "\n",
              "  .colab-df-quickchart-complete:disabled,\n",
              "  .colab-df-quickchart-complete:disabled:hover {\n",
              "    background-color: var(--disabled-bg-color);\n",
              "    fill: var(--disabled-fill-color);\n",
              "    box-shadow: none;\n",
              "  }\n",
              "\n",
              "  .colab-df-spinner {\n",
              "    border: 2px solid var(--fill-color);\n",
              "    border-color: transparent;\n",
              "    border-bottom-color: var(--fill-color);\n",
              "    animation:\n",
              "      spin 1s steps(1) infinite;\n",
              "  }\n",
              "\n",
              "  @keyframes spin {\n",
              "    0% {\n",
              "      border-color: transparent;\n",
              "      border-bottom-color: var(--fill-color);\n",
              "      border-left-color: var(--fill-color);\n",
              "    }\n",
              "    20% {\n",
              "      border-color: transparent;\n",
              "      border-left-color: var(--fill-color);\n",
              "      border-top-color: var(--fill-color);\n",
              "    }\n",
              "    30% {\n",
              "      border-color: transparent;\n",
              "      border-left-color: var(--fill-color);\n",
              "      border-top-color: var(--fill-color);\n",
              "      border-right-color: var(--fill-color);\n",
              "    }\n",
              "    40% {\n",
              "      border-color: transparent;\n",
              "      border-right-color: var(--fill-color);\n",
              "      border-top-color: var(--fill-color);\n",
              "    }\n",
              "    60% {\n",
              "      border-color: transparent;\n",
              "      border-right-color: var(--fill-color);\n",
              "    }\n",
              "    80% {\n",
              "      border-color: transparent;\n",
              "      border-right-color: var(--fill-color);\n",
              "      border-bottom-color: var(--fill-color);\n",
              "    }\n",
              "    90% {\n",
              "      border-color: transparent;\n",
              "      border-bottom-color: var(--fill-color);\n",
              "    }\n",
              "  }\n",
              "</style>\n",
              "\n",
              "  <script>\n",
              "    async function quickchart(key) {\n",
              "      const quickchartButtonEl =\n",
              "        document.querySelector('#' + key + ' button');\n",
              "      quickchartButtonEl.disabled = true;  // To prevent multiple clicks.\n",
              "      quickchartButtonEl.classList.add('colab-df-spinner');\n",
              "      try {\n",
              "        const charts = await google.colab.kernel.invokeFunction(\n",
              "            'suggestCharts', [key], {});\n",
              "      } catch (error) {\n",
              "        console.error('Error during call to suggestCharts:', error);\n",
              "      }\n",
              "      quickchartButtonEl.classList.remove('colab-df-spinner');\n",
              "      quickchartButtonEl.classList.add('colab-df-quickchart-complete');\n",
              "    }\n",
              "    (() => {\n",
              "      let quickchartButtonEl =\n",
              "        document.querySelector('#df-0ed1fa75-ed6e-486b-8c91-51056368da3c button');\n",
              "      quickchartButtonEl.style.display =\n",
              "        google.colab.kernel.accessAllowed ? 'block' : 'none';\n",
              "    })();\n",
              "  </script>\n",
              "</div>\n",
              "\n",
              "    </div>\n",
              "  </div>\n"
            ],
            "application/vnd.google.colaboratory.intrinsic+json": {
              "type": "dataframe",
              "variable_name": "data",
              "summary": "{\n  \"name\": \"data\",\n  \"rows\": 150,\n  \"fields\": [\n    {\n      \"column\": \"SL\",\n      \"properties\": {\n        \"dtype\": \"number\",\n        \"std\": 0.8281680425537907,\n        \"min\": 4.3,\n        \"max\": 7.9,\n        \"num_unique_values\": 35,\n        \"samples\": [\n          6.4,\n          4.5,\n          6.7\n        ],\n        \"semantic_type\": \"\",\n        \"description\": \"\"\n      }\n    },\n    {\n      \"column\": \"SW\",\n      \"properties\": {\n        \"dtype\": \"number\",\n        \"std\": 0.4306437737028829,\n        \"min\": 2.0,\n        \"max\": 4.4,\n        \"num_unique_values\": 23,\n        \"samples\": [\n          2.3,\n          4.4,\n          3.5\n        ],\n        \"semantic_type\": \"\",\n        \"description\": \"\"\n      }\n    },\n    {\n      \"column\": \"PL\",\n      \"properties\": {\n        \"dtype\": \"number\",\n        \"std\": 1.7613058867140106,\n        \"min\": 1.0,\n        \"max\": 6.9,\n        \"num_unique_values\": 43,\n        \"samples\": [\n          6.9,\n          3.8,\n          3.7\n        ],\n        \"semantic_type\": \"\",\n        \"description\": \"\"\n      }\n    },\n    {\n      \"column\": \"PW\",\n      \"properties\": {\n        \"dtype\": \"number\",\n        \"std\": 0.7631607417008411,\n        \"min\": 0.1,\n        \"max\": 2.5,\n        \"num_unique_values\": 22,\n        \"samples\": [\n          0.2,\n          1.2,\n          1.3\n        ],\n        \"semantic_type\": \"\",\n        \"description\": \"\"\n      }\n    },\n    {\n      \"column\": \"Classification\",\n      \"properties\": {\n        \"dtype\": \"category\",\n        \"num_unique_values\": 3,\n        \"samples\": [\n          \"Iris-setosa\",\n          \"Iris-versicolor\",\n          \"Iris-virginica\"\n        ],\n        \"semantic_type\": \"\",\n        \"description\": \"\"\n      }\n    }\n  ]\n}"
            }
          },
          "metadata": {},
          "execution_count": 161
        }
      ]
    },
    {
      "cell_type": "markdown",
      "source": [
        "#Data visualization"
      ],
      "metadata": {
        "id": "JyiBouz1YgQh"
      }
    },
    {
      "cell_type": "code",
      "source": [
        "#Analyse the data\n",
        "data.info()"
      ],
      "metadata": {
        "colab": {
          "base_uri": "https://localhost:8080/"
        },
        "id": "rsVjVfrA5vrR",
        "outputId": "5c501ca1-68fd-4948-b0ce-acc7f25695e4"
      },
      "execution_count": 162,
      "outputs": [
        {
          "output_type": "stream",
          "name": "stdout",
          "text": [
            "<class 'pandas.core.frame.DataFrame'>\n",
            "RangeIndex: 150 entries, 0 to 149\n",
            "Data columns (total 5 columns):\n",
            " #   Column          Non-Null Count  Dtype  \n",
            "---  ------          --------------  -----  \n",
            " 0   SL              143 non-null    float64\n",
            " 1   SW              144 non-null    float64\n",
            " 2   PL              144 non-null    float64\n",
            " 3   PW              150 non-null    float64\n",
            " 4   Classification  150 non-null    object \n",
            "dtypes: float64(4), object(1)\n",
            "memory usage: 6.0+ KB\n"
          ]
        }
      ]
    },
    {
      "cell_type": "code",
      "source": [
        "# to get the distribution of data in the numerical columns\n",
        "freq_graph = data.select_dtypes(include='float64')\n",
        "freq_graph.hist(figsize=(10,8));\n"
      ],
      "metadata": {
        "colab": {
          "base_uri": "https://localhost:8080/",
          "height": 699
        },
        "id": "69aezOIk-igr",
        "outputId": "c0013fc9-d8eb-4937-f534-3d80451fc205"
      },
      "execution_count": 163,
      "outputs": [
        {
          "output_type": "display_data",
          "data": {
            "text/plain": [
              "<Figure size 1000x800 with 4 Axes>"
            ],
            "image/png": "[encoded data removed]"
          },
          "metadata": {}
        }
      ]
    },
    {
      "cell_type": "markdown",
      "source": [
        "#Data Preprocessing"
      ],
      "metadata": {
        "id": "wMtFICA_YspA"
      }
    },
    {
      "cell_type": "markdown",
      "source": [
        "Checking missing value and handle."
      ],
      "metadata": {
        "id": "WOPkTPZLurcB"
      }
    },
    {
      "cell_type": "code",
      "source": [
        "data.isna().sum()"
      ],
      "metadata": {
        "colab": {
          "base_uri": "https://localhost:8080/"
        },
        "id": "yT4setpS_EDt",
        "outputId": "f0f860b3-9e33-4c0c-965d-d628e8484337"
      },
      "execution_count": 164,
      "outputs": [
        {
          "output_type": "execute_result",
          "data": {
            "text/plain": [
              "SL                7\n",
              "SW                6\n",
              "PL                6\n",
              "PW                0\n",
              "Classification    0\n",
              "dtype: int64"
            ]
          },
          "metadata": {},
          "execution_count": 164
        }
      ]
    },
    {
      "cell_type": "code",
      "source": [
        "data['SL'] = data['SL'].fillna(data['SL'].mean())\n",
        "data['SW'] = data['SW'].fillna(data['SW'].mean())\n",
        "data['PL'] = data['PL'].fillna(data['PL'].median())\n"
      ],
      "metadata": {
        "id": "g_-OrUNS-9lk"
      },
      "execution_count": 165,
      "outputs": []
    },
    {
      "cell_type": "code",
      "source": [
        "data.isna().sum()"
      ],
      "metadata": {
        "colab": {
          "base_uri": "https://localhost:8080/"
        },
        "id": "nNzreNjwCHNT",
        "outputId": "21457deb-2d7c-421b-9e50-78b60da0ac98"
      },
      "execution_count": 166,
      "outputs": [
        {
          "output_type": "execute_result",
          "data": {
            "text/plain": [
              "SL                0\n",
              "SW                0\n",
              "PL                0\n",
              "PW                0\n",
              "Classification    0\n",
              "dtype: int64"
            ]
          },
          "metadata": {},
          "execution_count": 166
        }
      ]
    },
    {
      "cell_type": "markdown",
      "source": [
        "Checking duplicates and remove it"
      ],
      "metadata": {
        "id": "4G84vKinu6Iu"
      }
    },
    {
      "cell_type": "code",
      "source": [
        "data.duplicated().sum()\n"
      ],
      "metadata": {
        "colab": {
          "base_uri": "https://localhost:8080/"
        },
        "id": "6Qymipz4CJQp",
        "outputId": "9d5d2e98-9a71-4fd3-dbd7-1f243ec7530c"
      },
      "execution_count": 167,
      "outputs": [
        {
          "output_type": "execute_result",
          "data": {
            "text/plain": [
              "3"
            ]
          },
          "metadata": {},
          "execution_count": 167
        }
      ]
    },
    {
      "cell_type": "code",
      "source": [
        "data = data.drop_duplicates()\n"
      ],
      "metadata": {
        "id": "0ssuVpA9Ci0j"
      },
      "execution_count": 168,
      "outputs": []
    },
    {
      "cell_type": "code",
      "source": [
        "data.shape"
      ],
      "metadata": {
        "colab": {
          "base_uri": "https://localhost:8080/"
        },
        "id": "L_tkgOShvj7g",
        "outputId": "5f20c504-3f4c-44de-b5eb-fdde635fcff9"
      },
      "execution_count": 169,
      "outputs": [
        {
          "output_type": "execute_result",
          "data": {
            "text/plain": [
              "(147, 5)"
            ]
          },
          "metadata": {},
          "execution_count": 169
        }
      ]
    },
    {
      "cell_type": "markdown",
      "source": [
        "Check outliers and handle the outliers"
      ],
      "metadata": {
        "id": "Ssj1PiPgvuDq"
      }
    },
    {
      "cell_type": "code",
      "source": [
        "num_columns=data.select_dtypes(include='float64')\n",
        "for i in num_columns:\n",
        "  plt.figure()\n",
        "  plt.boxplot(data[i])\n",
        "  plt.title(i)\n"
      ],
      "metadata": {
        "colab": {
          "base_uri": "https://localhost:8080/",
          "height": 1000
        },
        "id": "WAuMk7p6CxW8",
        "outputId": "badef7fa-27c4-4dd3-9588-8b858f0ef548"
      },
      "execution_count": 170,
      "outputs": [
        {
          "output_type": "display_data",
          "data": {
            "text/plain": [
              "<Figure size 640x480 with 1 Axes>"
            ],
            "image/png": "[encoded data removed]"
          },
          "metadata": {}
        },
        {
          "output_type": "display_data",
          "data": {
            "text/plain": [
              "<Figure size 640x480 with 1 Axes>"
            ],
            "image/png": "[encoded data removed]"
          },
          "metadata": {}
        },
        {
          "output_type": "display_data",
          "data": {
            "text/plain": [
              "<Figure size 640x480 with 1 Axes>"
            ],
            "image/png": "[encoded data removed]"
          },
          "metadata": {}
        },
        {
          "output_type": "display_data",
          "data": {
            "text/plain": [
              "<Figure size 640x480 with 1 Axes>"
            ],
            "image/png": "[encoded data removed]"
          },
          "metadata": {}
        }
      ]
    },
    {
      "cell_type": "markdown",
      "source": [
        "Outlier detected in SW .Find outliers using IQR method and handle with clip function."
      ],
      "metadata": {
        "id": "CpjsmO64wBOs"
      }
    },
    {
      "cell_type": "code",
      "source": [
        "Q1=np.percentile(data['SW'],25,method='midpoint')\n",
        "Q2=np.percentile(data['SW'],50,method='midpoint')\n",
        "Q3=np.percentile(data['SW'],75,method='midpoint')\n",
        "IQR=Q3-Q1\n",
        "low_lim = Q1-1.5*IQR\n",
        "up_lim = Q3+1.5*IQR\n",
        "print(\"lower limit:\",low_lim)\n",
        "print(\"upper limit:\",up_lim)\n",
        "outlier=[]\n",
        "for x in data['SW']:\n",
        "  if(x<low_lim) or (x>up_lim):\n",
        "    outlier.append(x)\n",
        "print(outlier)\n",
        "#clip method to handle\n",
        "data['SW'] = data['SW'].clip(lower=low_lim,upper=up_lim)\n"
      ],
      "metadata": {
        "colab": {
          "base_uri": "https://localhost:8080/"
        },
        "id": "oJZhCyPQIMSu",
        "outputId": "54b6f4fa-39d6-4ad1-893b-0c048dea6e2b"
      },
      "execution_count": 171,
      "outputs": [
        {
          "output_type": "stream",
          "name": "stdout",
          "text": [
            "lower limit: 2.05\n",
            "upper limit: 4.05\n",
            "[4.4, 4.1, 4.2, 2.0]\n"
          ]
        }
      ]
    },
    {
      "cell_type": "code",
      "source": [
        "#Check outliers handled\n",
        "num_columns=data.select_dtypes(include='float64')\n",
        "for i in num_columns:\n",
        "  plt.figure()\n",
        "  plt.boxplot(data[i])\n",
        "  plt.title(i)\n"
      ],
      "metadata": {
        "colab": {
          "base_uri": "https://localhost:8080/",
          "height": 1000
        },
        "id": "QZzs_8zZI98W",
        "outputId": "e81f7b3d-6227-4379-c9e8-5f3521ccdb01"
      },
      "execution_count": 172,
      "outputs": [
        {
          "output_type": "display_data",
          "data": {
            "text/plain": [
              "<Figure size 640x480 with 1 Axes>"
            ],
            "image/png": "[encoded data removed]"
          },
          "metadata": {}
        },
        {
          "output_type": "display_data",
          "data": {
            "text/plain": [
              "<Figure size 640x480 with 1 Axes>"
            ],
            "image/png": "[encoded data removed]"
          },
          "metadata": {}
        },
        {
          "output_type": "display_data",
          "data": {
            "text/plain": [
              "<Figure size 640x480 with 1 Axes>"
            ],
            "image/png": "[encoded data removed]"
          },
          "metadata": {}
        },
        {
          "output_type": "display_data",
          "data": {
            "text/plain": [
              "<Figure size 640x480 with 1 Axes>"
            ],
            "image/png": "[encoded data removed]"
          },
          "metadata": {}
        }
      ]
    },
    {
      "cell_type": "code",
      "source": [
        "data['Classification'].value_counts() #Check distribution of data"
      ],
      "metadata": {
        "colab": {
          "base_uri": "https://localhost:8080/"
        },
        "id": "gPAgCvFdLC0c",
        "outputId": "f12e9f8d-7416-45f8-e068-d501cfe9f6ab"
      },
      "execution_count": 173,
      "outputs": [
        {
          "output_type": "execute_result",
          "data": {
            "text/plain": [
              "Iris-versicolor    50\n",
              "Iris-virginica     49\n",
              "Iris-setosa        48\n",
              "Name: Classification, dtype: int64"
            ]
          },
          "metadata": {},
          "execution_count": 173
        }
      ]
    },
    {
      "cell_type": "markdown",
      "source": [
        "Almost all classes are equal"
      ],
      "metadata": {
        "id": "72nEaAB8G2pw"
      }
    },
    {
      "cell_type": "code",
      "source": [
        "sns.countplot(x='Classification', data=data, ) #Plotting classification count\n",
        "plt.show()\n"
      ],
      "metadata": {
        "colab": {
          "base_uri": "https://localhost:8080/",
          "height": 449
        },
        "id": "AgF2Djx6KJHj",
        "outputId": "be134f8e-e05f-4681-9d07-1202b4d8d8a4"
      },
      "execution_count": 174,
      "outputs": [
        {
          "output_type": "display_data",
          "data": {
            "text/plain": [
              "<Figure size 640x480 with 1 Axes>"
            ],
            "image/png": "[encoded data removed]"
          },
          "metadata": {}
        }
      ]
    },
    {
      "cell_type": "markdown",
      "source": [
        "Draw correlation map to find correlated variables"
      ],
      "metadata": {
        "id": "Y-hjmz35HKQL"
      }
    },
    {
      "cell_type": "code",
      "source": [
        "corrmatrix= data.corr()\n",
        "plt.subplots(figsize=(10,8))\n",
        "sns.heatmap(corrmatrix,vmin=-0.7,vmax=0.7,annot=True,linewidths=0.2,cmap='YlGnBu')"
      ],
      "metadata": {
        "colab": {
          "base_uri": "https://localhost:8080/",
          "height": 748
        },
        "id": "tzllRB25JDEo",
        "outputId": "677fb6be-ca25-47dc-d12d-7830a9881474"
      },
      "execution_count": 175,
      "outputs": [
        {
          "output_type": "stream",
          "name": "stderr",
          "text": [
            "<ipython-input-175-9eee49471d32>:1: FutureWarning: The default value of numeric_only in DataFrame.corr is deprecated. In a future version, it will default to False. Select only valid columns or specify the value of numeric_only to silence this warning.\n",
            "  corrmatrix= data.corr()\n"
          ]
        },
        {
          "output_type": "execute_result",
          "data": {
            "text/plain": [
              "<Axes: >"
            ]
          },
          "metadata": {},
          "execution_count": 175
        },
        {
          "output_type": "display_data",
          "data": {
            "text/plain": [
              "<Figure size 1000x800 with 2 Axes>"
            ],
            "image/png": "[encoded data removed]"
          },
          "metadata": {}
        }
      ]
    },
    {
      "cell_type": "markdown",
      "source": [
        "PW and PL are highly correlated with 0.93.\n",
        "PL and SL are highly correlated with 0.83.\n",
        "Here doesn't drop any column, we have only few columns."
      ],
      "metadata": {
        "id": "xkS2OpQkHYkn"
      }
    },
    {
      "cell_type": "markdown",
      "source": [
        "Label Encoding"
      ],
      "metadata": {
        "id": "JVVM-mbRH_GR"
      }
    },
    {
      "cell_type": "code",
      "source": [
        "from sklearn.preprocessing import LabelEncoder\n",
        "le = LabelEncoder()\n",
        "data['Classification'] = le.fit_transform(data['Classification'])\n",
        "\n"
      ],
      "metadata": {
        "id": "MhMCIcCUK-uZ"
      },
      "execution_count": 176,
      "outputs": []
    },
    {
      "cell_type": "markdown",
      "source": [
        "Assign dependent variable and independent variable"
      ],
      "metadata": {
        "id": "5dJHXmYLIH6s"
      }
    },
    {
      "cell_type": "code",
      "source": [
        "y = data['Classification']\n",
        "x= data.drop(['Classification'],axis=1)"
      ],
      "metadata": {
        "id": "SaJB7sNeLb1V"
      },
      "execution_count": 177,
      "outputs": []
    },
    {
      "cell_type": "markdown",
      "source": [
        "Split the data for training and test purpose"
      ],
      "metadata": {
        "id": "iSW1GWE5IS2C"
      }
    },
    {
      "cell_type": "code",
      "source": [
        "from sklearn.model_selection import train_test_split\n",
        "x_train,x_test,y_train,y_test= train_test_split(x,y,random_state=42,test_size=.25)#25% data for test"
      ],
      "metadata": {
        "id": "WgRTreObLblL"
      },
      "execution_count": 178,
      "outputs": []
    },
    {
      "cell_type": "markdown",
      "source": [
        "Scaling"
      ],
      "metadata": {
        "id": "lBnFOjF9IlHP"
      }
    },
    {
      "cell_type": "code",
      "source": [
        "#Do Standard scaling\n",
        "from sklearn.preprocessing import StandardScaler\n",
        "sc = StandardScaler()\n"
      ],
      "metadata": {
        "id": "VdA15MIodAo_"
      },
      "execution_count": 179,
      "outputs": []
    },
    {
      "cell_type": "code",
      "source": [
        "x_train_sc = sc.fit_transform(x_train)\n",
        "x_test_sc = sc.fit_transform(x_test)\n"
      ],
      "metadata": {
        "id": "D9weIsnQdFjl"
      },
      "execution_count": 180,
      "outputs": []
    },
    {
      "cell_type": "markdown",
      "source": [
        "#Classification Models"
      ],
      "metadata": {
        "id": "R_BzHmPoI1WO"
      }
    },
    {
      "cell_type": "markdown",
      "source": [
        "#1.Logistic Regression Model"
      ],
      "metadata": {
        "id": "Cv35l3EUdcVb"
      }
    },
    {
      "cell_type": "code",
      "source": [
        "#logistic regression model\n",
        "from sklearn.linear_model import LogisticRegression\n",
        "log_reg = LogisticRegression(solver='lbfgs', max_iter=1000)\n"
      ],
      "metadata": {
        "id": "WKfDFmbkLSg_"
      },
      "execution_count": 181,
      "outputs": []
    },
    {
      "cell_type": "code",
      "source": [
        "log_reg.fit(x_train,y_train)\n",
        "y_log_pred = log_reg.predict(x_test)\n"
      ],
      "metadata": {
        "id": "z1TlY7BdMINg"
      },
      "execution_count": 182,
      "outputs": []
    },
    {
      "cell_type": "code",
      "source": [
        "from sklearn.metrics import confusion_matrix,accuracy_score,precision_score,recall_score,f1_score  #metrics for evaluating model"
      ],
      "metadata": {
        "id": "bzhchUg9MURd"
      },
      "execution_count": 183,
      "outputs": []
    },
    {
      "cell_type": "code",
      "source": [
        "confusion_matrix(y_test,y_log_pred)"
      ],
      "metadata": {
        "colab": {
          "base_uri": "https://localhost:8080/"
        },
        "id": "xrRNOnL5MXWN",
        "outputId": "052bfb62-7620-42da-fc5e-13a047bdb6f8"
      },
      "execution_count": 184,
      "outputs": [
        {
          "output_type": "execute_result",
          "data": {
            "text/plain": [
              "array([[14,  0,  0],\n",
              "       [ 1,  8,  1],\n",
              "       [ 0,  1, 12]])"
            ]
          },
          "metadata": {},
          "execution_count": 184
        }
      ]
    },
    {
      "cell_type": "code",
      "source": [
        "log_accuracy = accuracy_score(y_test,y_log_pred)\n",
        "print(\"Accuracy: \",accuracy_score(y_test,y_log_pred))\n",
        "print(\"Precision: \",precision_score(y_test,y_log_pred,average='micro'))\n",
        "print(\"Recall: \",recall_score(y_test,y_log_pred,average='micro'))\n",
        "print(\"f1 score: \",f1_score(y_test,y_log_pred,average='micro'))\n",
        "result = pd.DataFrame({'Model': ['Logistic Regression'], 'Accuracy':[log_accuracy]})\n"
      ],
      "metadata": {
        "colab": {
          "base_uri": "https://localhost:8080/"
        },
        "id": "xaOJro2JMdv_",
        "outputId": "2b23f682-5c2b-4ac3-e655-1110b1062368"
      },
      "execution_count": 185,
      "outputs": [
        {
          "output_type": "stream",
          "name": "stdout",
          "text": [
            "Accuracy:  0.918918918918919\n",
            "Precision:  0.918918918918919\n",
            "Recall:  0.918918918918919\n",
            "f1 score:  0.918918918918919\n"
          ]
        }
      ]
    },
    {
      "cell_type": "markdown",
      "source": [
        "Using scaled data"
      ],
      "metadata": {
        "id": "rofYuAE1dl9P"
      }
    },
    {
      "cell_type": "code",
      "source": [
        "log_sc_model = log_reg.fit(x_train_sc,y_train)\n",
        "y_log_pred_sc = log_sc_model.predict(x_test_sc)\n",
        "log_sc_accuracy = accuracy_score(y_test,y_log_pred_sc)\n",
        "log_sc_accuracy"
      ],
      "metadata": {
        "colab": {
          "base_uri": "https://localhost:8080/"
        },
        "id": "me0MjT4Kdp9O",
        "outputId": "3ae8f11d-ae66-4c7e-f73c-37a024c42090"
      },
      "execution_count": 186,
      "outputs": [
        {
          "output_type": "execute_result",
          "data": {
            "text/plain": [
              "0.9459459459459459"
            ]
          },
          "metadata": {},
          "execution_count": 186
        }
      ]
    },
    {
      "cell_type": "code",
      "source": [
        "result2 = pd.DataFrame({'Model': ['Logistic Regression Scaled'], 'Accuracy':[log_sc_accuracy]})\n"
      ],
      "metadata": {
        "id": "CSspSXz-odBx"
      },
      "execution_count": 187,
      "outputs": []
    },
    {
      "cell_type": "markdown",
      "source": [
        "Scaled data gives good performane. Accuracy of Logistic model using scaled data (0.9459459459459459) is higher than model witout scaled data(0.918918918918919)"
      ],
      "metadata": {
        "id": "-jKgLAzSex9Q"
      }
    },
    {
      "cell_type": "markdown",
      "source": [
        "#2.KNN Model"
      ],
      "metadata": {
        "id": "E2_GEJTCe-92"
      }
    },
    {
      "cell_type": "code",
      "source": [
        "from sklearn.neighbors import KNeighborsClassifier\n",
        "metric_k = []\n",
        "neighbors = np.arange(3,15)"
      ],
      "metadata": {
        "id": "hUpu9tC-NKKy"
      },
      "execution_count": 188,
      "outputs": []
    },
    {
      "cell_type": "code",
      "source": [
        "for k in neighbors:\n",
        "  classifier = KNeighborsClassifier(n_neighbors=k,metric='minkowski',p=2)\n",
        "  classifier.fit(x_train,y_train)\n",
        "  y_pred_knn = classifier.predict(x_test)\n",
        "  accuracy= accuracy_score(y_test,y_pred_knn)\n",
        "  metric_k.append(accuracy)"
      ],
      "metadata": {
        "id": "8dtg27OgNXB_"
      },
      "execution_count": 189,
      "outputs": []
    },
    {
      "cell_type": "code",
      "source": [
        "plt.plot(neighbors,metric_k,'o-')\n",
        "plt.xlabel('k_value')\n",
        "plt.ylabel('accuracy')"
      ],
      "metadata": {
        "colab": {
          "base_uri": "https://localhost:8080/",
          "height": 467
        },
        "id": "m_LVI9RaNc2p",
        "outputId": "c61bd5ed-db91-4a4e-f162-a65652b4a2d8"
      },
      "execution_count": 190,
      "outputs": [
        {
          "output_type": "execute_result",
          "data": {
            "text/plain": [
              "Text(0, 0.5, 'accuracy')"
            ]
          },
          "metadata": {},
          "execution_count": 190
        },
        {
          "output_type": "display_data",
          "data": {
            "text/plain": [
              "<Figure size 640x480 with 1 Axes>"
            ],
            "image/png": "[encoded data removed]"
          },
          "metadata": {}
        }
      ]
    },
    {
      "cell_type": "code",
      "source": [
        "classifier = KNeighborsClassifier(n_neighbors=3,metric='minkowski',p=2) #3 is the highest data point\n",
        "classifier.fit(x_train,y_train)\n",
        "y_pred_knn = classifier.predict(x_test)\n"
      ],
      "metadata": {
        "id": "6m7LsV1IVS72"
      },
      "execution_count": 191,
      "outputs": []
    },
    {
      "cell_type": "code",
      "source": [
        "knn_accuracy = accuracy_score(y_test,y_pred_knn)\n",
        "print(\"Accuracy: \",accuracy_score(y_test,y_pred_knn))\n",
        "print(\"Precision: \",precision_score(y_test,y_pred_knn,average='micro'))\n",
        "print(\"Recall: \",recall_score(y_test,y_pred_knn,average='micro'))\n",
        "print(\"f1 score: \",f1_score(y_test,y_pred_knn,average='micro'))"
      ],
      "metadata": {
        "colab": {
          "base_uri": "https://localhost:8080/"
        },
        "id": "EyBlZYcTVzvC",
        "outputId": "df9f9067-724d-402a-ab3d-27e7a1b70a58"
      },
      "execution_count": 192,
      "outputs": [
        {
          "output_type": "stream",
          "name": "stdout",
          "text": [
            "Accuracy:  0.9459459459459459\n",
            "Precision:  0.9459459459459459\n",
            "Recall:  0.9459459459459459\n",
            "f1 score:  0.9459459459459459\n"
          ]
        }
      ]
    },
    {
      "cell_type": "code",
      "source": [
        "result3 = pd.DataFrame({'Model': ['KNN'], 'Accuracy':[knn_accuracy]})\n"
      ],
      "metadata": {
        "id": "J0wX6kMYpKU7"
      },
      "execution_count": 193,
      "outputs": []
    },
    {
      "cell_type": "markdown",
      "source": [
        "KNN Using scaled data"
      ],
      "metadata": {
        "id": "PK194uezhKXu"
      }
    },
    {
      "cell_type": "code",
      "source": [
        "metric_k = []\n",
        "neighbors = np.arange(3,15)"
      ],
      "metadata": {
        "id": "1gcGM9NlhP-Z"
      },
      "execution_count": 194,
      "outputs": []
    },
    {
      "cell_type": "code",
      "source": [
        "for k in neighbors:\n",
        "  classifier = KNeighborsClassifier(n_neighbors=k,metric='minkowski',p=2)\n",
        "  knn_model_sc = classifier.fit(x_train_sc,y_train)\n",
        "  y_pred_knn_sc = knn_model_sc.predict(x_test_sc)\n",
        "  accuracy= accuracy_score(y_test,y_pred_knn_sc)\n",
        "  metric_k.append(accuracy)"
      ],
      "metadata": {
        "id": "iRGb1U35hQNZ"
      },
      "execution_count": 195,
      "outputs": []
    },
    {
      "cell_type": "code",
      "source": [
        "plt.plot(neighbors,metric_k,'o-')\n",
        "plt.xlabel('k_value')\n",
        "plt.ylabel('accuracy')"
      ],
      "metadata": {
        "colab": {
          "base_uri": "https://localhost:8080/",
          "height": 467
        },
        "id": "nYVCJX6chXfo",
        "outputId": "ff6d4e15-12bb-4f84-e12e-aabcc97f4e33"
      },
      "execution_count": 196,
      "outputs": [
        {
          "output_type": "execute_result",
          "data": {
            "text/plain": [
              "Text(0, 0.5, 'accuracy')"
            ]
          },
          "metadata": {},
          "execution_count": 196
        },
        {
          "output_type": "display_data",
          "data": {
            "text/plain": [
              "<Figure size 640x480 with 1 Axes>"
            ],
            "image/png": "[encoded data removed]"
          },
          "metadata": {}
        }
      ]
    },
    {
      "cell_type": "code",
      "source": [
        "classifier = KNeighborsClassifier(n_neighbors=4,metric='minkowski',p=2) #4 is the highest data point\n",
        "knn_model_sc = classifier.fit(x_train_sc,y_train)\n",
        "y_pred_knn_sc = knn_model_sc.predict(x_test_sc)\n"
      ],
      "metadata": {
        "id": "Zvt72B68iQfc"
      },
      "execution_count": 197,
      "outputs": []
    },
    {
      "cell_type": "code",
      "source": [
        "knn_sc_accuracy = accuracy_score(y_test,y_pred_knn_sc)\n",
        "print(\"Accuracy: \",accuracy_score(y_test,y_pred_knn_sc))\n",
        "print(\"Precision: \",precision_score(y_test,y_pred_knn_sc,average='micro'))\n",
        "print(\"Recall: \",recall_score(y_test,y_pred_knn_sc,average='micro'))\n",
        "print(\"f1 score: \",f1_score(y_test,y_pred_knn_sc,average='micro'))"
      ],
      "metadata": {
        "colab": {
          "base_uri": "https://localhost:8080/"
        },
        "id": "MrB772Kqii3z",
        "outputId": "1c8da0e0-42f7-4efd-f53a-a7b3da9e32e7"
      },
      "execution_count": 198,
      "outputs": [
        {
          "output_type": "stream",
          "name": "stdout",
          "text": [
            "Accuracy:  0.972972972972973\n",
            "Precision:  0.972972972972973\n",
            "Recall:  0.972972972972973\n",
            "f1 score:  0.972972972972973\n"
          ]
        }
      ]
    },
    {
      "cell_type": "code",
      "source": [
        "result4 = pd.DataFrame({'Model': ['KNNScaled  '], 'Accuracy':[knn_sc_accuracy]})\n"
      ],
      "metadata": {
        "id": "tbzYeeVupXOV"
      },
      "execution_count": 199,
      "outputs": []
    },
    {
      "cell_type": "markdown",
      "source": [
        "Scaled data gives better model. Accuracy of Scaled KNN is 0.972972972972973 ,Which is higher than KNN model without scaling 0.9459459459459459"
      ],
      "metadata": {
        "id": "-KAJH5MYi0qc"
      }
    },
    {
      "cell_type": "markdown",
      "source": [
        "#3.SVM model"
      ],
      "metadata": {
        "id": "JPasZp4OV9nc"
      }
    },
    {
      "cell_type": "code",
      "source": [
        "from sklearn.svm import SVC\n",
        "sv_cl = SVC(kernel='poly')#hypermarameter turning with polinomeal kernel\n",
        "sv_cl.fit(x_train,y_train)"
      ],
      "metadata": {
        "colab": {
          "base_uri": "https://localhost:8080/",
          "height": 74
        },
        "id": "h_H0S8SvWAJp",
        "outputId": "9cdc0f96-23d0-498c-ec3f-961de00604e1"
      },
      "execution_count": 200,
      "outputs": [
        {
          "output_type": "execute_result",
          "data": {
            "text/plain": [
              "SVC(kernel='poly')"
            ],
            "text/html": [
              "<style>#sk-container-id-8 {color: black;background-color: white;}#sk-container-id-8 pre{padding: 0;}#sk-container-id-8 div.sk-toggleable {background-color: white;}#sk-container-id-8 label.sk-toggleable__label {cursor: pointer;display: block;width: 100%;margin-bottom: 0;padding: 0.3em;box-sizing: border-box;text-align: center;}#sk-container-id-8 label.sk-toggleable__label-arrow:before {content: \"▸\";float: left;margin-right: 0.25em;color: #696969;}#sk-container-id-8 label.sk-toggleable__label-arrow:hover:before {color: black;}#sk-container-id-8 div.sk-estimator:hover label.sk-toggleable__label-arrow:before {color: black;}#sk-container-id-8 div.sk-toggleable__content {max-height: 0;max-width: 0;overflow: hidden;text-align: left;background-color: #f0f8ff;}#sk-container-id-8 div.sk-toggleable__content pre {margin: 0.2em;color: black;border-radius: 0.25em;background-color: #f0f8ff;}#sk-container-id-8 input.sk-toggleable__control:checked~div.sk-toggleable__content {max-height: 200px;max-width: 100%;overflow: auto;}#sk-container-id-8 input.sk-toggleable__control:checked~label.sk-toggleable__label-arrow:before {content: \"▾\";}#sk-container-id-8 div.sk-estimator input.sk-toggleable__control:checked~label.sk-toggleable__label {background-color: #d4ebff;}#sk-container-id-8 div.sk-label input.sk-toggleable__control:checked~label.sk-toggleable__label {background-color: #d4ebff;}#sk-container-id-8 input.sk-hidden--visually {border: 0;clip: rect(1px 1px 1px 1px);clip: rect(1px, 1px, 1px, 1px);height: 1px;margin: -1px;overflow: hidden;padding: 0;position: absolute;width: 1px;}#sk-container-id-8 div.sk-estimator {font-family: monospace;background-color: #f0f8ff;border: 1px dotted black;border-radius: 0.25em;box-sizing: border-box;margin-bottom: 0.5em;}#sk-container-id-8 div.sk-estimator:hover {background-color: #d4ebff;}#sk-container-id-8 div.sk-parallel-item::after {content: \"\";width: 100%;border-bottom: 1px solid gray;flex-grow: 1;}#sk-container-id-8 div.sk-label:hover label.sk-toggleable__label {background-color: #d4ebff;}#sk-container-id-8 div.sk-serial::before {content: \"\";position: absolute;border-left: 1px solid gray;box-sizing: border-box;top: 0;bottom: 0;left: 50%;z-index: 0;}#sk-container-id-8 div.sk-serial {display: flex;flex-direction: column;align-items: center;background-color: white;padding-right: 0.2em;padding-left: 0.2em;position: relative;}#sk-container-id-8 div.sk-item {position: relative;z-index: 1;}#sk-container-id-8 div.sk-parallel {display: flex;align-items: stretch;justify-content: center;background-color: white;position: relative;}#sk-container-id-8 div.sk-item::before, #sk-container-id-8 div.sk-parallel-item::before {content: \"\";position: absolute;border-left: 1px solid gray;box-sizing: border-box;top: 0;bottom: 0;left: 50%;z-index: -1;}#sk-container-id-8 div.sk-parallel-item {display: flex;flex-direction: column;z-index: 1;position: relative;background-color: white;}#sk-container-id-8 div.sk-parallel-item:first-child::after {align-self: flex-end;width: 50%;}#sk-container-id-8 div.sk-parallel-item:last-child::after {align-self: flex-start;width: 50%;}#sk-container-id-8 div.sk-parallel-item:only-child::after {width: 0;}#sk-container-id-8 div.sk-dashed-wrapped {border: 1px dashed gray;margin: 0 0.4em 0.5em 0.4em;box-sizing: border-box;padding-bottom: 0.4em;background-color: white;}#sk-container-id-8 div.sk-label label {font-family: monospace;font-weight: bold;display: inline-block;line-height: 1.2em;}#sk-container-id-8 div.sk-label-container {text-align: center;}#sk-container-id-8 div.sk-container {/* jupyter's `normalize.less` sets `[hidden] { display: none; }` but bootstrap.min.css set `[hidden] { display: none !important; }` so we also need the `!important` here to be able to override the default hidden behavior on the sphinx rendered scikit-learn.org. See: https://github.com/scikit-learn/scikit-learn/issues/21755 */display: inline-block !important;position: relative;}#sk-container-id-8 div.sk-text-repr-fallback {display: none;}</style><div id=\"sk-container-id-8\" class=\"sk-top-container\"><div class=\"sk-text-repr-fallback\"><pre>SVC(kernel=&#x27;poly&#x27;)</pre><b>In a Jupyter environment, please rerun this cell to show the HTML representation or trust the notebook. <br />On GitHub, the HTML representation is unable to render, please try loading this page with nbviewer.org.</b></div><div class=\"sk-container\" hidden><div class=\"sk-item\"><div class=\"sk-estimator sk-toggleable\"><input class=\"sk-toggleable__control sk-hidden--visually\" id=\"sk-estimator-id-8\" type=\"checkbox\" checked><label for=\"sk-estimator-id-8\" class=\"sk-toggleable__label sk-toggleable__label-arrow\">SVC</label><div class=\"sk-toggleable__content\"><pre>SVC(kernel=&#x27;poly&#x27;)</pre></div></div></div></div></div>"
            ]
          },
          "metadata": {},
          "execution_count": 200
        }
      ]
    },
    {
      "cell_type": "code",
      "source": [
        "y_pred_svm = sv_cl.predict(x_test)"
      ],
      "metadata": {
        "id": "UzexchjQWFXc"
      },
      "execution_count": 201,
      "outputs": []
    },
    {
      "cell_type": "code",
      "source": [
        "svm_accuracy_poly = accuracy_score(y_test,y_pred_svm)\n",
        "print(\"Accuracy: \",accuracy_score(y_test,y_pred_svm))\n",
        "print(\"Precision: \",precision_score(y_test,y_pred_svm,average='micro'))\n",
        "print(\"Recall: \",recall_score(y_test,y_pred_svm,average='micro'))\n",
        "print(\"f1 score: \",f1_score(y_test,y_pred_svm,average='micro'))"
      ],
      "metadata": {
        "colab": {
          "base_uri": "https://localhost:8080/"
        },
        "id": "Yh1omwv9WIhl",
        "outputId": "86b8db9d-779a-42fa-d5b1-457f3255f6b0"
      },
      "execution_count": 202,
      "outputs": [
        {
          "output_type": "stream",
          "name": "stdout",
          "text": [
            "Accuracy:  0.9459459459459459\n",
            "Precision:  0.9459459459459459\n",
            "Recall:  0.9459459459459459\n",
            "f1 score:  0.9459459459459459\n"
          ]
        }
      ]
    },
    {
      "cell_type": "code",
      "source": [
        "result5 = pd.DataFrame({'Model': ['SVM(kernel ploy)  '], 'Accuracy':[svm_accuracy_poly]})\n"
      ],
      "metadata": {
        "id": "4C7l0NQupimC"
      },
      "execution_count": 203,
      "outputs": []
    },
    {
      "cell_type": "markdown",
      "source": [
        "Change kernel and checking accuracy"
      ],
      "metadata": {
        "id": "f-IIRf_xkjIp"
      }
    },
    {
      "cell_type": "code",
      "source": [
        "sv_cl = SVC(kernel='linear')#Linear\n",
        "svcl_lin = sv_cl.fit(x_train,y_train)\n",
        "y_pred_svm = svcl_lin.predict(x_test)\n",
        "svm_accuracy_lin = accuracy_score(y_test,y_pred_svm)\n",
        "print(\"Accuracy: \",accuracy_score(y_test,y_pred_svm))\n",
        "print(\"Precision: \",precision_score(y_test,y_pred_svm,average='micro'))\n",
        "print(\"Recall: \",recall_score(y_test,y_pred_svm,average='micro'))\n",
        "print(\"f1 score: \",f1_score(y_test,y_pred_svm,average='micro'))"
      ],
      "metadata": {
        "colab": {
          "base_uri": "https://localhost:8080/"
        },
        "id": "tu0Y0Lgpks3l",
        "outputId": "6acdf398-9bdb-4031-964a-7845642f2c8e"
      },
      "execution_count": 204,
      "outputs": [
        {
          "output_type": "stream",
          "name": "stdout",
          "text": [
            "Accuracy:  0.972972972972973\n",
            "Precision:  0.972972972972973\n",
            "Recall:  0.972972972972973\n",
            "f1 score:  0.972972972972973\n"
          ]
        }
      ]
    },
    {
      "cell_type": "code",
      "source": [
        "result6 = pd.DataFrame({'Model': ['SVM(kernel Linear)  '], 'Accuracy':[svm_accuracy_lin]})\n"
      ],
      "metadata": {
        "id": "vcUPHFSgpzzk"
      },
      "execution_count": 205,
      "outputs": []
    },
    {
      "cell_type": "code",
      "source": [
        "sv_cl = SVC(kernel='rbf')#hypermarameter turning with rbf\n",
        "svcl_rbf = sv_cl.fit(x_train,y_train)\n",
        "y_pred_svm = svcl_rbf.predict(x_test)\n",
        "svm_accuracy_rbf = accuracy_score(y_test,y_pred_svm)\n",
        "print(\"Accuracy: \",accuracy_score(y_test,y_pred_svm))\n",
        "print(\"Precision: \",precision_score(y_test,y_pred_svm,average='micro'))\n",
        "print(\"Recall: \",recall_score(y_test,y_pred_svm,average='micro'))\n",
        "print(\"f1 score: \",f1_score(y_test,y_pred_svm,average='micro'))"
      ],
      "metadata": {
        "colab": {
          "base_uri": "https://localhost:8080/"
        },
        "id": "82LwoUfok-oN",
        "outputId": "15035737-5917-4bc7-9117-5165b840bcfe"
      },
      "execution_count": 225,
      "outputs": [
        {
          "output_type": "stream",
          "name": "stdout",
          "text": [
            "Accuracy:  0.918918918918919\n",
            "Precision:  0.918918918918919\n",
            "Recall:  0.918918918918919\n",
            "f1 score:  0.918918918918919\n"
          ]
        }
      ]
    },
    {
      "cell_type": "code",
      "source": [
        "result7 = pd.DataFrame({'Model': ['SVM(kernel rbf)  '], 'Accuracy':[svm_accuracy_rbf]})\n"
      ],
      "metadata": {
        "id": "3D661Q59p9G-"
      },
      "execution_count": 207,
      "outputs": []
    },
    {
      "cell_type": "markdown",
      "source": [
        "SVM using sclaled data"
      ],
      "metadata": {
        "id": "2OdvzuZJjeu-"
      }
    },
    {
      "cell_type": "code",
      "source": [
        "sv_cl = SVC(kernel='linear')#Only checking with linear. Linear got high value\n",
        "svcl_sc = sv_cl.fit(x_train_sc,y_train)\n",
        "y_pred_svm_sc = svcl_sc.predict(x_test_sc)\n",
        "svm_sc_accuracy = accuracy_score(y_test,y_pred_svm_sc)\n",
        "print(\"Accuracy: \",accuracy_score(y_test,y_pred_svm_sc))\n",
        "print(\"Precision: \",precision_score(y_test,y_pred_svm_sc,average='micro'))\n",
        "print(\"Recall: \",recall_score(y_test,y_pred_svm_sc,average='micro'))\n",
        "print(\"f1 score: \",f1_score(y_test,y_pred_svm_sc,average='micro'))"
      ],
      "metadata": {
        "colab": {
          "base_uri": "https://localhost:8080/"
        },
        "id": "NeRXsi1Fjd68",
        "outputId": "303c3f7b-9f3f-4fbb-dcbc-1e698a7dfc4a"
      },
      "execution_count": 208,
      "outputs": [
        {
          "output_type": "stream",
          "name": "stdout",
          "text": [
            "Accuracy:  0.9459459459459459\n",
            "Precision:  0.9459459459459459\n",
            "Recall:  0.9459459459459459\n",
            "f1 score:  0.9459459459459459\n"
          ]
        }
      ]
    },
    {
      "cell_type": "code",
      "source": [
        "result8 = pd.DataFrame({'Model': ['SVM(kernel linear) scaled '], 'Accuracy':[svm_sc_accuracy]})\n"
      ],
      "metadata": {
        "id": "M7jGFNKZqJGV"
      },
      "execution_count": 209,
      "outputs": []
    },
    {
      "cell_type": "markdown",
      "source": [
        "Scaled data gives low accuracy."
      ],
      "metadata": {
        "id": "iZ5tmgLrj-Xr"
      }
    },
    {
      "cell_type": "markdown",
      "source": [
        "#4.Decision tree"
      ],
      "metadata": {
        "id": "ljVp0keMWU1E"
      }
    },
    {
      "cell_type": "code",
      "source": [
        "from sklearn.tree import DecisionTreeClassifier\n",
        "dt_clf = DecisionTreeClassifier(random_state=42)\n",
        "dt_clf.fit(x_train,y_train)\n",
        "y_pred_tree = dt_clf.predict(x_test)\n"
      ],
      "metadata": {
        "id": "mNPLZtRDWS7z"
      },
      "execution_count": 210,
      "outputs": []
    },
    {
      "cell_type": "code",
      "source": [
        "tree_accuracy = accuracy_score(y_test,y_pred_tree)\n",
        "print(\"Accuracy: \",accuracy_score(y_test,y_pred_tree))\n",
        "print(\"Precision: \",precision_score(y_test,y_pred_tree,average='micro'))\n",
        "print(\"Recall: \",recall_score(y_test,y_pred_tree,average='micro'))\n",
        "print(\"f1 score: \",f1_score(y_test,y_pred_tree,average='micro'))"
      ],
      "metadata": {
        "colab": {
          "base_uri": "https://localhost:8080/"
        },
        "id": "n0I9i088WjdX",
        "outputId": "98d11ee7-55e4-44b5-c770-e9202b38460f"
      },
      "execution_count": 211,
      "outputs": [
        {
          "output_type": "stream",
          "name": "stdout",
          "text": [
            "Accuracy:  0.918918918918919\n",
            "Precision:  0.918918918918919\n",
            "Recall:  0.918918918918919\n",
            "f1 score:  0.918918918918919\n"
          ]
        }
      ]
    },
    {
      "cell_type": "code",
      "source": [
        "result9 = pd.DataFrame({'Model': ['Decision tree '], 'Accuracy':[tree_accuracy]})\n"
      ],
      "metadata": {
        "id": "I44nRxpMqUjm"
      },
      "execution_count": 212,
      "outputs": []
    },
    {
      "cell_type": "markdown",
      "source": [
        "#5.Random forest"
      ],
      "metadata": {
        "id": "flsqwZVUW7SE"
      }
    },
    {
      "cell_type": "code",
      "source": [
        "from sklearn.ensemble import RandomForestClassifier\n",
        "rf_clf1 =RandomForestClassifier(n_estimators=20,max_depth=20,criterion='entropy')#Done hyper parameter tuning\n",
        "rf_clf1.fit(x_train,y_train)"
      ],
      "metadata": {
        "colab": {
          "base_uri": "https://localhost:8080/",
          "height": 74
        },
        "id": "VyvjH86XWjFY",
        "outputId": "8143ceba-c6df-46bb-ed5c-d8c1c0fbea41"
      },
      "execution_count": 213,
      "outputs": [
        {
          "output_type": "execute_result",
          "data": {
            "text/plain": [
              "RandomForestClassifier(criterion='entropy', max_depth=20, n_estimators=20)"
            ],
            "text/html": [
              "<style>#sk-container-id-9 {color: black;background-color: white;}#sk-container-id-9 pre{padding: 0;}#sk-container-id-9 div.sk-toggleable {background-color: white;}#sk-container-id-9 label.sk-toggleable__label {cursor: pointer;display: block;width: 100%;margin-bottom: 0;padding: 0.3em;box-sizing: border-box;text-align: center;}#sk-container-id-9 label.sk-toggleable__label-arrow:before {content: \"▸\";float: left;margin-right: 0.25em;color: #696969;}#sk-container-id-9 label.sk-toggleable__label-arrow:hover:before {color: black;}#sk-container-id-9 div.sk-estimator:hover label.sk-toggleable__label-arrow:before {color: black;}#sk-container-id-9 div.sk-toggleable__content {max-height: 0;max-width: 0;overflow: hidden;text-align: left;background-color: #f0f8ff;}#sk-container-id-9 div.sk-toggleable__content pre {margin: 0.2em;color: black;border-radius: 0.25em;background-color: #f0f8ff;}#sk-container-id-9 input.sk-toggleable__control:checked~div.sk-toggleable__content {max-height: 200px;max-width: 100%;overflow: auto;}#sk-container-id-9 input.sk-toggleable__control:checked~label.sk-toggleable__label-arrow:before {content: \"▾\";}#sk-container-id-9 div.sk-estimator input.sk-toggleable__control:checked~label.sk-toggleable__label {background-color: #d4ebff;}#sk-container-id-9 div.sk-label input.sk-toggleable__control:checked~label.sk-toggleable__label {background-color: #d4ebff;}#sk-container-id-9 input.sk-hidden--visually {border: 0;clip: rect(1px 1px 1px 1px);clip: rect(1px, 1px, 1px, 1px);height: 1px;margin: -1px;overflow: hidden;padding: 0;position: absolute;width: 1px;}#sk-container-id-9 div.sk-estimator {font-family: monospace;background-color: #f0f8ff;border: 1px dotted black;border-radius: 0.25em;box-sizing: border-box;margin-bottom: 0.5em;}#sk-container-id-9 div.sk-estimator:hover {background-color: #d4ebff;}#sk-container-id-9 div.sk-parallel-item::after {content: \"\";width: 100%;border-bottom: 1px solid gray;flex-grow: 1;}#sk-container-id-9 div.sk-label:hover label.sk-toggleable__label {background-color: #d4ebff;}#sk-container-id-9 div.sk-serial::before {content: \"\";position: absolute;border-left: 1px solid gray;box-sizing: border-box;top: 0;bottom: 0;left: 50%;z-index: 0;}#sk-container-id-9 div.sk-serial {display: flex;flex-direction: column;align-items: center;background-color: white;padding-right: 0.2em;padding-left: 0.2em;position: relative;}#sk-container-id-9 div.sk-item {position: relative;z-index: 1;}#sk-container-id-9 div.sk-parallel {display: flex;align-items: stretch;justify-content: center;background-color: white;position: relative;}#sk-container-id-9 div.sk-item::before, #sk-container-id-9 div.sk-parallel-item::before {content: \"\";position: absolute;border-left: 1px solid gray;box-sizing: border-box;top: 0;bottom: 0;left: 50%;z-index: -1;}#sk-container-id-9 div.sk-parallel-item {display: flex;flex-direction: column;z-index: 1;position: relative;background-color: white;}#sk-container-id-9 div.sk-parallel-item:first-child::after {align-self: flex-end;width: 50%;}#sk-container-id-9 div.sk-parallel-item:last-child::after {align-self: flex-start;width: 50%;}#sk-container-id-9 div.sk-parallel-item:only-child::after {width: 0;}#sk-container-id-9 div.sk-dashed-wrapped {border: 1px dashed gray;margin: 0 0.4em 0.5em 0.4em;box-sizing: border-box;padding-bottom: 0.4em;background-color: white;}#sk-container-id-9 div.sk-label label {font-family: monospace;font-weight: bold;display: inline-block;line-height: 1.2em;}#sk-container-id-9 div.sk-label-container {text-align: center;}#sk-container-id-9 div.sk-container {/* jupyter's `normalize.less` sets `[hidden] { display: none; }` but bootstrap.min.css set `[hidden] { display: none !important; }` so we also need the `!important` here to be able to override the default hidden behavior on the sphinx rendered scikit-learn.org. See: https://github.com/scikit-learn/scikit-learn/issues/21755 */display: inline-block !important;position: relative;}#sk-container-id-9 div.sk-text-repr-fallback {display: none;}</style><div id=\"sk-container-id-9\" class=\"sk-top-container\"><div class=\"sk-text-repr-fallback\"><pre>RandomForestClassifier(criterion=&#x27;entropy&#x27;, max_depth=20, n_estimators=20)</pre><b>In a Jupyter environment, please rerun this cell to show the HTML representation or trust the notebook. <br />On GitHub, the HTML representation is unable to render, please try loading this page with nbviewer.org.</b></div><div class=\"sk-container\" hidden><div class=\"sk-item\"><div class=\"sk-estimator sk-toggleable\"><input class=\"sk-toggleable__control sk-hidden--visually\" id=\"sk-estimator-id-9\" type=\"checkbox\" checked><label for=\"sk-estimator-id-9\" class=\"sk-toggleable__label sk-toggleable__label-arrow\">RandomForestClassifier</label><div class=\"sk-toggleable__content\"><pre>RandomForestClassifier(criterion=&#x27;entropy&#x27;, max_depth=20, n_estimators=20)</pre></div></div></div></div></div>"
            ]
          },
          "metadata": {},
          "execution_count": 213
        }
      ]
    },
    {
      "cell_type": "code",
      "source": [
        "y_pred_random = rf_clf1.predict(x_test)\n"
      ],
      "metadata": {
        "id": "ZfcipUY9Wi0R"
      },
      "execution_count": 214,
      "outputs": []
    },
    {
      "cell_type": "code",
      "source": [
        "random_accuracy = accuracy_score(y_test,y_pred_random)\n",
        "\n",
        "print(\"Accuracy: \",accuracy_score(y_test,y_pred_random))\n",
        "print(\"Precision: \",precision_score(y_test,y_pred_random,average='micro'))\n",
        "print(\"Recall: \",recall_score(y_test,y_pred_random,average='micro'))\n",
        "print(\"f1 score: \",f1_score(y_test,y_pred_random,average='micro'))"
      ],
      "metadata": {
        "colab": {
          "base_uri": "https://localhost:8080/"
        },
        "id": "lLArbzMQXJcj",
        "outputId": "1debd85a-05a9-44bf-a4d8-fbe4eaea970d"
      },
      "execution_count": 215,
      "outputs": [
        {
          "output_type": "stream",
          "name": "stdout",
          "text": [
            "Accuracy:  0.9459459459459459\n",
            "Precision:  0.9459459459459459\n",
            "Recall:  0.9459459459459459\n",
            "f1 score:  0.9459459459459459\n"
          ]
        }
      ]
    },
    {
      "cell_type": "code",
      "source": [
        "result10 = pd.DataFrame({'Model': ['Random Forest'], 'Accuracy':[random_accuracy]})\n"
      ],
      "metadata": {
        "id": "uK1uHF5croBT"
      },
      "execution_count": 216,
      "outputs": []
    },
    {
      "cell_type": "code",
      "source": [
        "# Append all resul values\n",
        "frames = [result, result2, result3,result4,result5,result6,result7,result8,result9,result10]\n",
        "results = pd.concat(frames)\n",
        "results\n"
      ],
      "metadata": {
        "colab": {
          "base_uri": "https://localhost:8080/",
          "height": 363
        },
        "id": "upSJuQEqYSso",
        "outputId": "d35b7adb-6f9f-492d-8ca2-889f4f09d75e"
      },
      "execution_count": 224,
      "outputs": [
        {
          "output_type": "execute_result",
          "data": {
            "text/plain": [
              "                        Model  Accuracy\n",
              "0         Logistic Regression  0.918919\n",
              "0  Logistic Regression Scaled  0.945946\n",
              "0                         KNN  0.945946\n",
              "0                 KNNScaled    0.972973\n",
              "0          SVM(kernel ploy)    0.945946\n",
              "0        SVM(kernel Linear)    0.972973\n",
              "0           SVM(kernel rbf)    0.918919\n",
              "0  SVM(kernel linear) scaled   0.945946\n",
              "0              Decision tree   0.918919\n",
              "0               Random Forest  0.945946"
            ],
            "text/html": [
              "\n",
              "  <div id=\"df-6a0a1f2e-8995-4130-82cd-6455d4b16df5\" class=\"colab-df-container\">\n",
              "    <div>\n",
              "<style scoped>\n",
              "    .dataframe tbody tr th:only-of-type {\n",
              "        vertical-align: middle;\n",
              "    }\n",
              "\n",
              "    .dataframe tbody tr th {\n",
              "        vertical-align: top;\n",
              "    }\n",
              "\n",
              "    .dataframe thead th {\n",
              "        text-align: right;\n",
              "    }\n",
              "</style>\n",
              "<table border=\"1\" class=\"dataframe\">\n",
              "  <thead>\n",
              "    <tr style=\"text-align: right;\">\n",
              "      <th></th>\n",
              "      <th>Model</th>\n",
              "      <th>Accuracy</th>\n",
              "    </tr>\n",
              "  </thead>\n",
              "  <tbody>\n",
              "    <tr>\n",
              "      <th>0</th>\n",
              "      <td>Logistic Regression</td>\n",
              "      <td>0.918919</td>\n",
              "    </tr>\n",
              "    <tr>\n",
              "      <th>0</th>\n",
              "      <td>Logistic Regression Scaled</td>\n",
              "      <td>0.945946</td>\n",
              "    </tr>\n",
              "    <tr>\n",
              "      <th>0</th>\n",
              "      <td>KNN</td>\n",
              "      <td>0.945946</td>\n",
              "    </tr>\n",
              "    <tr>\n",
              "      <th>0</th>\n",
              "      <td>KNNScaled</td>\n",
              "      <td>0.972973</td>\n",
              "    </tr>\n",
              "    <tr>\n",
              "      <th>0</th>\n",
              "      <td>SVM(kernel ploy)</td>\n",
              "      <td>0.945946</td>\n",
              "    </tr>\n",
              "    <tr>\n",
              "      <th>0</th>\n",
              "      <td>SVM(kernel Linear)</td>\n",
              "      <td>0.972973</td>\n",
              "    </tr>\n",
              "    <tr>\n",
              "      <th>0</th>\n",
              "      <td>SVM(kernel rbf)</td>\n",
              "      <td>0.918919</td>\n",
              "    </tr>\n",
              "    <tr>\n",
              "      <th>0</th>\n",
              "      <td>SVM(kernel linear) scaled</td>\n",
              "      <td>0.945946</td>\n",
              "    </tr>\n",
              "    <tr>\n",
              "      <th>0</th>\n",
              "      <td>Decision tree</td>\n",
              "      <td>0.918919</td>\n",
              "    </tr>\n",
              "    <tr>\n",
              "      <th>0</th>\n",
              "      <td>Random Forest</td>\n",
              "      <td>0.945946</td>\n",
              "    </tr>\n",
              "  </tbody>\n",
              "</table>\n",
              "</div>\n",
              "    <div class=\"colab-df-buttons\">\n",
              "\n",
              "  <div class=\"colab-df-container\">\n",
              "    <button class=\"colab-df-convert\" onclick=\"convertToInteractive('df-6a0a1f2e-8995-4130-82cd-6455d4b16df5')\"\n",
              "            title=\"Convert this dataframe to an interactive table.\"\n",
              "            style=\"display:none;\">\n",
              "\n",
              "  <svg xmlns=\"http://www.w3.org/2000/svg\" height=\"24px\" viewBox=\"0 -960 960 960\">\n",
              "    <path d=\"M120-120v-720h720v720H120Zm60-500h600v-160H180v160Zm220 220h160v-160H400v160Zm0 220h160v-160H400v160ZM180-400h160v-160H180v160Zm440 0h160v-160H620v160ZM180-180h160v-160H180v160Zm440 0h160v-160H620v160Z\"/>\n",
              "  </svg>\n",
              "    </button>\n",
              "\n",
              "  <style>\n",
              "    .colab-df-container {\n",
              "      display:flex;\n",
              "      gap: 12px;\n",
              "    }\n",
              "\n",
              "    .colab-df-convert {\n",
              "      background-color: #E8F0FE;\n",
              "      border: none;\n",
              "      border-radius: 50%;\n",
              "      cursor: pointer;\n",
              "      display: none;\n",
              "      fill: #1967D2;\n",
              "      height: 32px;\n",
              "      padding: 0 0 0 0;\n",
              "      width: 32px;\n",
              "    }\n",
              "\n",
              "    .colab-df-convert:hover {\n",
              "      background-color: #E2EBFA;\n",
              "      box-shadow: 0px 1px 2px rgba(60, 64, 67, 0.3), 0px 1px 3px 1px rgba(60, 64, 67, 0.15);\n",
              "      fill: #174EA6;\n",
              "    }\n",
              "\n",
              "    .colab-df-buttons div {\n",
              "      margin-bottom: 4px;\n",
              "    }\n",
              "\n",
              "    [theme=dark] .colab-df-convert {\n",
              "      background-color: #3B4455;\n",
              "      fill: #D2E3FC;\n",
              "    }\n",
              "\n",
              "    [theme=dark] .colab-df-convert:hover {\n",
              "      background-color: #434B5C;\n",
              "      box-shadow: 0px 1px 3px 1px rgba(0, 0, 0, 0.15);\n",
              "      filter: drop-shadow(0px 1px 2px rgba(0, 0, 0, 0.3));\n",
              "      fill: #FFFFFF;\n",
              "    }\n",
              "  </style>\n",
              "\n",
              "    <script>\n",
              "      const buttonEl =\n",
              "        document.querySelector('#df-6a0a1f2e-8995-4130-82cd-6455d4b16df5 button.colab-df-convert');\n",
              "      buttonEl.style.display =\n",
              "        google.colab.kernel.accessAllowed ? 'block' : 'none';\n",
              "\n",
              "      async function convertToInteractive(key) {\n",
              "        const element = document.querySelector('#df-6a0a1f2e-8995-4130-82cd-6455d4b16df5');\n",
              "        const dataTable =\n",
              "          await google.colab.kernel.invokeFunction('convertToInteractive',\n",
              "                                                    [key], {});\n",
              "        if (!dataTable) return;\n",
              "\n",
              "        const docLinkHtml = 'Like what you see? Visit the ' +\n",
              "          '<a target=\"_blank\" href=https://colab.research.google.com/notebooks/data_table.ipynb>data table notebook</a>'\n",
              "          + ' to learn more about interactive tables.';\n",
              "        element.innerHTML = '';\n",
              "        dataTable['output_type'] = 'display_data';\n",
              "        await google.colab.output.renderOutput(dataTable, element);\n",
              "        const docLink = document.createElement('div');\n",
              "        docLink.innerHTML = docLinkHtml;\n",
              "        element.appendChild(docLink);\n",
              "      }\n",
              "    </script>\n",
              "  </div>\n",
              "\n",
              "\n",
              "<div id=\"df-224d6383-5541-40fa-9251-c063ad7651d6\">\n",
              "  <button class=\"colab-df-quickchart\" onclick=\"quickchart('df-224d6383-5541-40fa-9251-c063ad7651d6')\"\n",
              "            title=\"Suggest charts\"\n",
              "            style=\"display:none;\">\n",
              "\n",
              "<svg xmlns=\"http://www.w3.org/2000/svg\" height=\"24px\"viewBox=\"0 0 24 24\"\n",
              "     width=\"24px\">\n",
              "    <g>\n",
              "        <path d=\"M19 3H5c-1.1 0-2 .9-2 2v14c0 1.1.9 2 2 2h14c1.1 0 2-.9 2-2V5c0-1.1-.9-2-2-2zM9 17H7v-7h2v7zm4 0h-2V7h2v10zm4 0h-2v-4h2v4z\"/>\n",
              "    </g>\n",
              "</svg>\n",
              "  </button>\n",
              "\n",
              "<style>\n",
              "  .colab-df-quickchart {\n",
              "      --bg-color: #E8F0FE;\n",
              "      --fill-color: #1967D2;\n",
              "      --hover-bg-color: #E2EBFA;\n",
              "      --hover-fill-color: #174EA6;\n",
              "      --disabled-fill-color: #AAA;\n",
              "      --disabled-bg-color: #DDD;\n",
              "  }\n",
              "\n",
              "  [theme=dark] .colab-df-quickchart {\n",
              "      --bg-color: #3B4455;\n",
              "      --fill-color: #D2E3FC;\n",
              "      --hover-bg-color: #434B5C;\n",
              "      --hover-fill-color: #FFFFFF;\n",
              "      --disabled-bg-color: #3B4455;\n",
              "      --disabled-fill-color: #666;\n",
              "  }\n",
              "\n",
              "  .colab-df-quickchart {\n",
              "    background-color: var(--bg-color);\n",
              "    border: none;\n",
              "    border-radius: 50%;\n",
              "    cursor: pointer;\n",
              "    display: none;\n",
              "    fill: var(--fill-color);\n",
              "    height: 32px;\n",
              "    padding: 0;\n",
              "    width: 32px;\n",
              "  }\n",
              "\n",
              "  .colab-df-quickchart:hover {\n",
              "    background-color: var(--hover-bg-color);\n",
              "    box-shadow: 0 1px 2px rgba(60, 64, 67, 0.3), 0 1px 3px 1px rgba(60, 64, 67, 0.15);\n",
              "    fill: var(--button-hover-fill-color);\n",
              "  }\n",
              "\n",
              "  .colab-df-quickchart-complete:disabled,\n",
              "  .colab-df-quickchart-complete:disabled:hover {\n",
              "    background-color: var(--disabled-bg-color);\n",
              "    fill: var(--disabled-fill-color);\n",
              "    box-shadow: none;\n",
              "  }\n",
              "\n",
              "  .colab-df-spinner {\n",
              "    border: 2px solid var(--fill-color);\n",
              "    border-color: transparent;\n",
              "    border-bottom-color: var(--fill-color);\n",
              "    animation:\n",
              "      spin 1s steps(1) infinite;\n",
              "  }\n",
              "\n",
              "  @keyframes spin {\n",
              "    0% {\n",
              "      border-color: transparent;\n",
              "      border-bottom-color: var(--fill-color);\n",
              "      border-left-color: var(--fill-color);\n",
              "    }\n",
              "    20% {\n",
              "      border-color: transparent;\n",
              "      border-left-color: var(--fill-color);\n",
              "      border-top-color: var(--fill-color);\n",
              "    }\n",
              "    30% {\n",
              "      border-color: transparent;\n",
              "      border-left-color: var(--fill-color);\n",
              "      border-top-color: var(--fill-color);\n",
              "      border-right-color: var(--fill-color);\n",
              "    }\n",
              "    40% {\n",
              "      border-color: transparent;\n",
              "      border-right-color: var(--fill-color);\n",
              "      border-top-color: var(--fill-color);\n",
              "    }\n",
              "    60% {\n",
              "      border-color: transparent;\n",
              "      border-right-color: var(--fill-color);\n",
              "    }\n",
              "    80% {\n",
              "      border-color: transparent;\n",
              "      border-right-color: var(--fill-color);\n",
              "      border-bottom-color: var(--fill-color);\n",
              "    }\n",
              "    90% {\n",
              "      border-color: transparent;\n",
              "      border-bottom-color: var(--fill-color);\n",
              "    }\n",
              "  }\n",
              "</style>\n",
              "\n",
              "  <script>\n",
              "    async function quickchart(key) {\n",
              "      const quickchartButtonEl =\n",
              "        document.querySelector('#' + key + ' button');\n",
              "      quickchartButtonEl.disabled = true;  // To prevent multiple clicks.\n",
              "      quickchartButtonEl.classList.add('colab-df-spinner');\n",
              "      try {\n",
              "        const charts = await google.colab.kernel.invokeFunction(\n",
              "            'suggestCharts', [key], {});\n",
              "      } catch (error) {\n",
              "        console.error('Error during call to suggestCharts:', error);\n",
              "      }\n",
              "      quickchartButtonEl.classList.remove('colab-df-spinner');\n",
              "      quickchartButtonEl.classList.add('colab-df-quickchart-complete');\n",
              "    }\n",
              "    (() => {\n",
              "      let quickchartButtonEl =\n",
              "        document.querySelector('#df-224d6383-5541-40fa-9251-c063ad7651d6 button');\n",
              "      quickchartButtonEl.style.display =\n",
              "        google.colab.kernel.accessAllowed ? 'block' : 'none';\n",
              "    })();\n",
              "  </script>\n",
              "</div>\n",
              "\n",
              "  <div id=\"id_b96bbb8d-a5e2-4018-b896-fb584d245bd5\">\n",
              "    <style>\n",
              "      .colab-df-generate {\n",
              "        background-color: #E8F0FE;\n",
              "        border: none;\n",
              "        border-radius: 50%;\n",
              "        cursor: pointer;\n",
              "        display: none;\n",
              "        fill: #1967D2;\n",
              "        height: 32px;\n",
              "        padding: 0 0 0 0;\n",
              "        width: 32px;\n",
              "      }\n",
              "\n",
              "      .colab-df-generate:hover {\n",
              "        background-color: #E2EBFA;\n",
              "        box-shadow: 0px 1px 2px rgba(60, 64, 67, 0.3), 0px 1px 3px 1px rgba(60, 64, 67, 0.15);\n",
              "        fill: #174EA6;\n",
              "      }\n",
              "\n",
              "      [theme=dark] .colab-df-generate {\n",
              "        background-color: #3B4455;\n",
              "        fill: #D2E3FC;\n",
              "      }\n",
              "\n",
              "      [theme=dark] .colab-df-generate:hover {\n",
              "        background-color: #434B5C;\n",
              "        box-shadow: 0px 1px 3px 1px rgba(0, 0, 0, 0.15);\n",
              "        filter: drop-shadow(0px 1px 2px rgba(0, 0, 0, 0.3));\n",
              "        fill: #FFFFFF;\n",
              "      }\n",
              "    </style>\n",
              "    <button class=\"colab-df-generate\" onclick=\"generateWithVariable('results')\"\n",
              "            title=\"Generate code using this dataframe.\"\n",
              "            style=\"display:none;\">\n",
              "\n",
              "  <svg xmlns=\"http://www.w3.org/2000/svg\" height=\"24px\"viewBox=\"0 0 24 24\"\n",
              "       width=\"24px\">\n",
              "    <path d=\"M7,19H8.4L18.45,9,17,7.55,7,17.6ZM5,21V16.75L18.45,3.32a2,2,0,0,1,2.83,0l1.4,1.43a1.91,1.91,0,0,1,.58,1.4,1.91,1.91,0,0,1-.58,1.4L9.25,21ZM18.45,9,17,7.55Zm-12,3A5.31,5.31,0,0,0,4.9,8.1,5.31,5.31,0,0,0,1,6.5,5.31,5.31,0,0,0,4.9,4.9,5.31,5.31,0,0,0,6.5,1,5.31,5.31,0,0,0,8.1,4.9,5.31,5.31,0,0,0,12,6.5,5.46,5.46,0,0,0,6.5,12Z\"/>\n",
              "  </svg>\n",
              "    </button>\n",
              "    <script>\n",
              "      (() => {\n",
              "      const buttonEl =\n",
              "        document.querySelector('#id_b96bbb8d-a5e2-4018-b896-fb584d245bd5 button.colab-df-generate');\n",
              "      buttonEl.style.display =\n",
              "        google.colab.kernel.accessAllowed ? 'block' : 'none';\n",
              "\n",
              "      buttonEl.onclick = () => {\n",
              "        google.colab.notebook.generateWithVariable('results');\n",
              "      }\n",
              "      })();\n",
              "    </script>\n",
              "  </div>\n",
              "\n",
              "    </div>\n",
              "  </div>\n"
            ],
            "application/vnd.google.colaboratory.intrinsic+json": {
              "type": "dataframe",
              "variable_name": "results",
              "summary": "{\n  \"name\": \"results\",\n  \"rows\": 10,\n  \"fields\": [\n    {\n      \"column\": \"Model\",\n      \"properties\": {\n        \"dtype\": \"string\",\n        \"num_unique_values\": 10,\n        \"samples\": [\n          \"Decision tree \",\n          \"Logistic Regression Scaled\",\n          \"SVM(kernel Linear)  \"\n        ],\n        \"semantic_type\": \"\",\n        \"description\": \"\"\n      }\n    },\n    {\n      \"column\": \"Accuracy\",\n      \"properties\": {\n        \"dtype\": \"number\",\n        \"std\": 0.019942291550611398,\n        \"min\": 0.918918918918919,\n        \"max\": 0.972972972972973,\n        \"num_unique_values\": 3,\n        \"samples\": [\n          0.918918918918919,\n          0.9459459459459459,\n          0.972972972972973\n        ],\n        \"semantic_type\": \"\",\n        \"description\": \"\"\n      }\n    }\n  ]\n}"
            }
          },
          "metadata": {},
          "execution_count": 224
        }
      ]
    },
    {
      "cell_type": "markdown",
      "source": [
        "#Conclusion:\n",
        "5 Classification models; Logistic regression model,KNN model,SVM model,Decision tree and random forest model are tried.\n",
        "\n",
        "All models are giving accuracy above 0.9. KNN model using scaled data and  SVM model with linear kernel have higher accuracy than other models. So **KNN model** and **SVM model** are best models."
      ],
      "metadata": {
        "id": "f8aKUEMXVd18"
      }
    },
    {
      "cell_type": "markdown",
      "source": [
        "#Cross Validation"
      ],
      "metadata": {
        "id": "Nu0Z4VCttChZ"
      }
    },
    {
      "cell_type": "code",
      "source": [
        "from sklearn.model_selection import cross_val_score\n",
        "from sklearn.model_selection import StratifiedKFold\n",
        "stratified_cv = StratifiedKFold(n_splits =10)\n",
        ""
      ],
      "metadata": {
        "id": "h4_oLX2NtB5s"
      },
      "execution_count": 218,
      "outputs": []
    },
    {
      "cell_type": "markdown",
      "source": [
        "Checking cross validation score.Best performing models are taken from 5 models"
      ],
      "metadata": {
        "id": "1s6U0qu9PYEq"
      }
    },
    {
      "cell_type": "markdown",
      "source": [
        "Checking validation score of"
      ],
      "metadata": {
        "id": "p_7jB1W7PQdY"
      }
    },
    {
      "cell_type": "code",
      "source": [
        "log_cv_score = cross_val_score(log_sc_model,x,y,cv = stratified_cv)\n",
        "knn_cv_score = cross_val_score(knn_model_sc,x,y,cv = stratified_cv)\n",
        "svm_cv_score = cross_val_score(svcl_lin,x,y,cv = stratified_cv)\n",
        "dt_cv_score = cross_val_score(dt_clf,x,y,cv = stratified_cv)\n",
        "rf_cv_score = cross_val_score(rf_clf1,x,y,cv = stratified_cv)\n"
      ],
      "metadata": {
        "id": "_8zDpXLEKcJL"
      },
      "execution_count": 219,
      "outputs": []
    },
    {
      "cell_type": "code",
      "source": [
        "cv_log = log_cv_score.mean()\n",
        "knn_cv = knn_cv_score.mean()\n",
        "svm_cv = svm_cv_score.mean()\n",
        "dt_cv = dt_cv_score.mean()\n",
        "rf_cv = rf_cv_score.mean()\n"
      ],
      "metadata": {
        "id": "MUas2nwTKi3o"
      },
      "execution_count": 220,
      "outputs": []
    },
    {
      "cell_type": "code",
      "source": [
        "cv_scores = {'Model': ['Logistic regression scaled', 'KNN scaled', 'SVM(Linear)', 'Decision tree','Random forest'],\n",
        "        'Score': [cv_log, knn_cv, svm_cv, dt_cv,rf_cv]}\n",
        "\n",
        "cv_scores = pd.DataFrame(cv_scores)\n",
        "print(cv_scores)\n"
      ],
      "metadata": {
        "colab": {
          "base_uri": "https://localhost:8080/"
        },
        "id": "0ugfPz65QlO0",
        "outputId": "8eb42e00-9a42-425b-b515-da009a1efcf1"
      },
      "execution_count": 223,
      "outputs": [
        {
          "output_type": "stream",
          "name": "stdout",
          "text": [
            "                        Model     Score\n",
            "0  Logistic regression scaled  0.938571\n",
            "1                  KNN scaled  0.959048\n",
            "2                 SVM(Linear)  0.952857\n",
            "3               Decision tree  0.946190\n",
            "4               Random forest  0.966667\n"
          ]
        }
      ]
    },
    {
      "cell_type": "markdown",
      "source": [
        "All models give cross validation score above 0.9. Random Forest model has high cross validation score."
      ],
      "metadata": {
        "id": "MCxDjJS4U-kl"
      }
    }
  ]
}